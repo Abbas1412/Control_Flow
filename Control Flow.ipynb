{
 "cells": [
  {
   "cell_type": "code",
   "execution_count": 1,
   "id": "a27c838c-397e-46cb-8bcf-a909383631e9",
   "metadata": {},
   "outputs": [],
   "source": [
    "#*****************************************************************************************#"
   ]
  },
  {
   "cell_type": "code",
   "execution_count": 2,
   "id": "177c84dc-cbf6-4315-802f-e0344043384f",
   "metadata": {},
   "outputs": [],
   "source": [
    "#******************************** Basic If Else *******************************************#"
   ]
  },
  {
   "cell_type": "code",
   "execution_count": 3,
   "id": "6f8feded-8f29-4f27-9da2-3848d464938e",
   "metadata": {},
   "outputs": [],
   "source": [
    "#*****************************************************************************************#"
   ]
  },
  {
   "cell_type": "code",
   "execution_count": 5,
   "id": "fc92e0a7-7d33-4dc2-b28b-dd5e624ebd83",
   "metadata": {},
   "outputs": [
    {
     "name": "stdout",
     "output_type": "stream",
     "text": [
      "Number is Negative\n"
     ]
    }
   ],
   "source": [
    "# 1. Write a Python program to check if a given number is positive or negative.\n",
    "\n",
    "#Code:-\n",
    "\n",
    "num = -100\n",
    "\n",
    "if(num >= 0):\n",
    "    print(\"Number is Positive\")\n",
    "else:\n",
    "    print(\"Number is Negative\")"
   ]
  },
  {
   "cell_type": "code",
   "execution_count": 8,
   "id": "ebb58c98-b70d-4618-8939-12dc6df287f2",
   "metadata": {},
   "outputs": [
    {
     "name": "stdin",
     "output_type": "stream",
     "text": [
      "Enter your age:  12\n"
     ]
    },
    {
     "name": "stdout",
     "output_type": "stream",
     "text": [
      "your are not eligible\n"
     ]
    }
   ],
   "source": [
    "# 2. Create a program that determines if a person is eligible to vote based on their age.\n",
    "\n",
    "#Code:-\n",
    "\n",
    "age = int(input(\"Enter your age: \"))\n",
    "\n",
    "if(age >= 18):\n",
    "    print(\"your are elible to vote\")\n",
    "else:\n",
    "    print(\"your are not eligible\")"
   ]
  },
  {
   "cell_type": "code",
   "execution_count": 10,
   "id": "8243f0ac-8152-497a-9892-b8387a43581f",
   "metadata": {},
   "outputs": [
    {
     "name": "stdout",
     "output_type": "stream",
     "text": [
      "20\n"
     ]
    }
   ],
   "source": [
    "# 3. Develop a program to find the maximum of two numbers using if-else statements.\n",
    "\n",
    "#Code:-\n",
    "\n",
    "a,b = 10,20\n",
    "\n",
    "if(a > b):\n",
    "    print(a)\n",
    "else:\n",
    "    print(b)"
   ]
  },
  {
   "cell_type": "code",
   "execution_count": 12,
   "id": "3c675977-9508-4360-86e7-5c702caa0c2c",
   "metadata": {},
   "outputs": [
    {
     "name": "stdin",
     "output_type": "stream",
     "text": [
      "Enter year to check it is leap year or not 2004\n"
     ]
    },
    {
     "name": "stdout",
     "output_type": "stream",
     "text": [
      "Leap Year\n"
     ]
    }
   ],
   "source": [
    "# 4. Write a Python script to classify a given year as a leap year or not.\n",
    "\n",
    "#Code:-\n",
    "\n",
    "year = int(input(\"Enter year to check it is leap year or not\"))\n",
    "\n",
    "if(year % 4 == 0):\n",
    "    print(\"Leap Year\")\n",
    "else:\n",
    "    print(\"Not a leap year\")"
   ]
  },
  {
   "cell_type": "code",
   "execution_count": 15,
   "id": "361fdeee-9d14-4e91-adb5-52eed8cf6b36",
   "metadata": {},
   "outputs": [
    {
     "name": "stdout",
     "output_type": "stream",
     "text": [
      "It's a consonant\n"
     ]
    }
   ],
   "source": [
    "#5. Create a program that checks whether a character is a vowel or a consonant\n",
    "\n",
    "#Code:-\n",
    "\n",
    "c = 't'\n",
    "c.lower()\n",
    "\n",
    "if(c == 'a' or c == 'i' or c == 'o' or c == 'u' or c == 'e'):\n",
    "    print(\"It's a vowel\")\n",
    "else:\n",
    "    print(\"It's a consonant\")"
   ]
  },
  {
   "cell_type": "code",
   "execution_count": 17,
   "id": "15936e9e-40ab-4f1a-93c0-943941c1135a",
   "metadata": {},
   "outputs": [
    {
     "name": "stdout",
     "output_type": "stream",
     "text": [
      "Number is Even\n"
     ]
    }
   ],
   "source": [
    "# 6. Implement a program to determine whether a given number is even or odd.\n",
    "\n",
    "#Code:-\n",
    "\n",
    "num = 10\n",
    "\n",
    "if(num % 2 == 0):\n",
    "    print(\"Number is Even\")\n",
    "else:\n",
    "    print(\"Number is Odd\")"
   ]
  },
  {
   "cell_type": "code",
   "execution_count": 22,
   "id": "f37b1052-8941-4a29-9ed5-4f634e61839f",
   "metadata": {},
   "outputs": [
    {
     "data": {
      "text/plain": [
       "10"
      ]
     },
     "execution_count": 22,
     "metadata": {},
     "output_type": "execute_result"
    }
   ],
   "source": [
    "# 7. Write a Python function to calculate the absolute value of a number without using the `abs()` function.\n",
    "\n",
    "#Code:-\n",
    "\n",
    "def absolute(a):\n",
    "    if(a < 0):\n",
    "        return -(a)\n",
    "    else:\n",
    "        return a\n",
    "\n",
    "a = -10\n",
    "absolute(a)"
   ]
  },
  {
   "cell_type": "code",
   "execution_count": 27,
   "id": "a5eda2ee-4ac0-4677-a591-23df64dc329d",
   "metadata": {},
   "outputs": [
    {
     "name": "stdout",
     "output_type": "stream",
     "text": [
      "Largest number is  40\n"
     ]
    }
   ],
   "source": [
    "# 8. Develop a program that determines the largest of three given numbers using if-else statements.\n",
    "\n",
    "#Code:-\n",
    "\n",
    "a = 40\n",
    "b = 20\n",
    "c = 30\n",
    "\n",
    "if(a > b) and (a > c):\n",
    "    print(\"Largest number is \", a)\n",
    "\n",
    "if(b > a) and (b > c):\n",
    "    print(\"Largest number is \", b)\n",
    "    \n",
    "if(c > a) and (c > b):\n",
    "    print(\"Largest number is \", c)"
   ]
  },
  {
   "cell_type": "code",
   "execution_count": 30,
   "id": "8c76ecca-da65-4ff1-b33b-5153234e53b3",
   "metadata": {},
   "outputs": [
    {
     "name": "stdout",
     "output_type": "stream",
     "text": [
      "String is a palindrome\n"
     ]
    }
   ],
   "source": [
    "# 9. Create a program that checks if a given string is a palindrome\n",
    "\n",
    "#Code:-\n",
    "\n",
    "s = \"MAHAM\"\n",
    "\n",
    "s.lower()\n",
    "\n",
    "if(s == s[::-1]):\n",
    "    print(\"String is a palindrome\")\n",
    "else:\n",
    "    print(\"String is not a palindrome\")"
   ]
  },
  {
   "cell_type": "code",
   "execution_count": 33,
   "id": "aa951c7c-8d21-43dc-9a0d-1fa60be96053",
   "metadata": {},
   "outputs": [
    {
     "name": "stdout",
     "output_type": "stream",
     "text": [
      "B Grade\n"
     ]
    }
   ],
   "source": [
    "# 10. Write a Python program to calculate the grade based on a student's score\n",
    "\n",
    "#Code:-\n",
    "\n",
    "score = 80\n",
    "\n",
    "if(score >= 85):\n",
    "    print(\"A Grade\")\n",
    "if(score >= 75 and score <= 85):\n",
    "    print(\"B Grade\")\n",
    "if(score >= 60 and score <= 75):\n",
    "    print(\"C Grade\")\n",
    "if(score >= 50 and score <= 60):\n",
    "    print(\"D Grade\")\n",
    "if(score <= 50):\n",
    "    Print(\"Fail\")"
   ]
  },
  {
   "cell_type": "code",
   "execution_count": 34,
   "id": "9831cb77-1cf3-4e74-a8fa-b1f5f41919a1",
   "metadata": {},
   "outputs": [],
   "source": [
    "#*******************************************************************************************#\n",
    "#******************************* NESTED IF ELSE ********************************************#\n",
    "#*******************************************************************************************#"
   ]
  },
  {
   "cell_type": "code",
   "execution_count": 36,
   "id": "da34fb49-9ba1-4e38-ad7c-9cee17f2cd33",
   "metadata": {},
   "outputs": [
    {
     "name": "stdout",
     "output_type": "stream",
     "text": [
      "30  is largest\n"
     ]
    }
   ],
   "source": [
    "# 11. Write a program to find the largest among three numbers using nested if-else statements.\n",
    "\n",
    "#Code:-\n",
    "\n",
    "a =10\n",
    "b = 20\n",
    "c = 30\n",
    "\n",
    "if(a > b):\n",
    "    if(a > c):\n",
    "        print(a, \" is largest\")\n",
    "if(b > a):\n",
    "    if(b > c):\n",
    "        print(b, \" is largest\")\n",
    "if(c > a):\n",
    "    if(c > b):\n",
    "        print(c, \" is largest\")"
   ]
  },
  {
   "cell_type": "code",
   "execution_count": 46,
   "id": "41f1bdf9-9e2b-4884-ab89-a987291911ba",
   "metadata": {},
   "outputs": [
    {
     "name": "stdout",
     "output_type": "stream",
     "text": [
      "Triangle is scalene\n"
     ]
    }
   ],
   "source": [
    "# 12. Implement a program to determine if a triangle is equilateral, isosceles, or scalene.\n",
    "\n",
    "#Code:-\n",
    "\n",
    "a = 10\n",
    "b = 3\n",
    "c = 2\n",
    "\n",
    "if(a == b):\n",
    "    if(a == c):\n",
    "        if(b == c):\n",
    "            print(\"Triangle is Equilateral\")\n",
    "    else:\n",
    "        print(\"Triangle is Isoceles\")\n",
    "        \n",
    "else:\n",
    "    if(a == c):\n",
    "        if(not b == c):\n",
    "            print(\"Triangle is Isoceles\")\n"
   ]
  },
  {
   "cell_type": "code",
   "execution_count": 20,
   "id": "4a499316-bd29-4810-aef8-286c91b4166e",
   "metadata": {},
   "outputs": [
    {
     "name": "stdout",
     "output_type": "stream",
     "text": [
      "Year is a century year\n",
      "year is also a leap year\n"
     ]
    }
   ],
   "source": [
    "# 13. Develop a program that checks if a year is a leap year and also if it is a century year.\n",
    "\n",
    "#Code:-\n",
    "\n",
    "year = 2000\n",
    "\n",
    "if(year % 100 == 0):\n",
    "    print(\"Year is a century year\")\n",
    "    \n",
    "    if(year % 4 == 0):\n",
    "        print(\"year is also a leap year\")\n",
    "        \n",
    "    else:\n",
    "        print(\"year is not a leap year\")\n",
    "        \n",
    "else:\n",
    "    print(\"year is not a century year\")\n",
    "    \n",
    "    if year % 4 == 0:\n",
    "        print(\"Year is a leap year\")\n",
    "        \n",
    "    else:\n",
    "        print(\"Year is not a leap year\")"
   ]
  },
  {
   "cell_type": "code",
   "execution_count": 22,
   "id": "f82a9473-5433-4bc7-b3dc-e586f89ad77f",
   "metadata": {},
   "outputs": [
    {
     "name": "stdout",
     "output_type": "stream",
     "text": [
      "Number is a positive number\n"
     ]
    }
   ],
   "source": [
    "# 14. Write a Python script to determine if a number is positive, negative, or zero\n",
    "\n",
    "#Code:-\n",
    "\n",
    "num = 10\n",
    "\n",
    "if(num == 0):\n",
    "    print(\"Number is Zero\")\n",
    "if(num > 0):\n",
    "    print(\"Number is a positive number\")\n",
    "if(num < 0):\n",
    "    print(\"Number is a negative number\")"
   ]
  },
  {
   "cell_type": "code",
   "execution_count": 28,
   "id": "ddcc44d7-8a43-46f4-995f-6ae07170991f",
   "metadata": {},
   "outputs": [
    {
     "name": "stdin",
     "output_type": "stream",
     "text": [
      "Enter the age of a person 40\n"
     ]
    },
    {
     "name": "stdout",
     "output_type": "stream",
     "text": [
      "person is not a teen ager\n"
     ]
    }
   ],
   "source": [
    "# 15. Create a program to check if a person is a teenager (between 13 and 19 years old)\n",
    "\n",
    "#Code:-\n",
    "\n",
    "age = int(input(\"Enter the age of a person\"))\n",
    "\n",
    "if(age >= 13):\n",
    "    if(age <= 19):\n",
    "        print(\"Person is a teenager\")\n",
    "    else:\n",
    "        print(\"person is not a teen ager\")        \n",
    "else:\n",
    "    print(\"person is not a teen ager\")"
   ]
  },
  {
   "cell_type": "code",
   "execution_count": 29,
   "id": "56b0a835-ad81-4c28-932b-3ef1ead73752",
   "metadata": {},
   "outputs": [
    {
     "name": "stdin",
     "output_type": "stream",
     "text": [
      "Enter angle of triangle 90\n"
     ]
    },
    {
     "name": "stdout",
     "output_type": "stream",
     "text": [
      "It's a right angle triangle\n"
     ]
    }
   ],
   "source": [
    "# 16. Develop a program that determines the type of angle based on its measure (acute, obtuse, or right)\n",
    "\n",
    "#Code:-\n",
    "\n",
    "angle = float(input(\"Enter angle of triangle\"))\n",
    "\n",
    "if(angle == 90):\n",
    "    print(\"It's a right angle triangle\")\n",
    "    "
   ]
  },
  {
   "cell_type": "code",
   "execution_count": 4,
   "id": "38617e40-ac8c-4c31-94da-45a7a407e036",
   "metadata": {},
   "outputs": [
    {
     "name": "stdin",
     "output_type": "stream",
     "text": [
      "Enter the value of a 12 \n",
      "Enter the value of b 33\n",
      "Enter the value of c 22\n"
     ]
    },
    {
     "data": {
      "text/plain": [
       "(-1.1356432230609155, -1.6143567769390845)"
      ]
     },
     "execution_count": 4,
     "metadata": {},
     "output_type": "execute_result"
    }
   ],
   "source": [
    "# 17. Write a Python program to calculate the roots of a quadratic equation.\n",
    "\n",
    "#Code:-\n",
    "\n",
    "import math\n",
    "\n",
    "def calculate_quadratic_roots(a, b, c):\n",
    "    discriminant = b**2 - 4*a*c\n",
    "    \n",
    "    if(discriminant > 0):\n",
    "        root1 = (-b + math.sqrt(discriminant)) / (2*a)\n",
    "        root2 = (-b - math.sqrt(discriminant)) / (2*a)\n",
    "        \n",
    "        return root1,root2\n",
    "    \n",
    "    elif(discriminant == 0):\n",
    "        root1 = root2 = -b/(2*a)\n",
    "        return root1, root2\n",
    "    \n",
    "    else:\n",
    "        real_part = -b / (2*a)\n",
    "        imaginary_part = math.sqrt(abs(discriminant)) / (2*a)\n",
    "        \n",
    "        root1 = complex(real_part,imaginary_part)\n",
    "        root2 = complex(real_part,imaginary_part)\n",
    "        \n",
    "        return root1,root2\n",
    "    \n",
    "# Function Call\n",
    "\n",
    "a = float(input(\"Enter the value of a\"))\n",
    "\n",
    "b = float(input(\"Enter the value of b\"))\n",
    "\n",
    "c = float(input(\"Enter the value of c\"))\n",
    "\n",
    "calculate_quadratic_roots(a,b,c)\n",
    "\n"
   ]
  },
  {
   "cell_type": "code",
   "execution_count": 37,
   "id": "1166f2c2-911f-42ab-abe6-9be1e8bcae3f",
   "metadata": {},
   "outputs": [
    {
     "name": "stdout",
     "output_type": "stream",
     "text": [
      "Day is Saturday\n"
     ]
    }
   ],
   "source": [
    "# 18. Implement a program to determine the day of the week based on a user-provided number (1 for Monday, 2 for Tuesday, etc.).\n",
    "\n",
    "#Code:-\n",
    "\n",
    "day = 6\n",
    "\n",
    "if(day > 0):\n",
    "    if(day <= 7):\n",
    "        if(day == 1):\n",
    "            print(\"Day is Monday\")\n",
    "        if(day == 2):\n",
    "            print(\"Day is Tuesday\")\n",
    "        if(day == 3):\n",
    "            print(\"Day is Wednesday\")\n",
    "        if(day == 4):\n",
    "            print(\"Day is Thursday\")\n",
    "        if(day == 5):\n",
    "            print(\"Day is Friday\")\n",
    "        if(day == 6):\n",
    "            print(\"Day is Saturday\")\n",
    "        if(day == 7):\n",
    "            print(\"Day is Sunday\")\n",
    "    else:\n",
    "        print(\"Invalid Day\")     \n",
    "else:\n",
    "    print(\"Invalid Day\")\n"
   ]
  },
  {
   "cell_type": "code",
   "execution_count": 39,
   "id": "c9d2893e-abd2-4976-bc29-ae1fa064f421",
   "metadata": {},
   "outputs": [
    {
     "name": "stdout",
     "output_type": "stream",
     "text": [
      "Year is leap year\n",
      "Year is also a century year\n"
     ]
    }
   ],
   "source": [
    "# 19. Create a program that determines if a year is a leap year and also if it is evenly divisible by 400.\n",
    "\n",
    "#Code:-\n",
    "\n",
    "year = 1900\n",
    "\n",
    "if(year % 4 == 0):\n",
    "    print(\"Year is leap year\")\n",
    "    \n",
    "    if(year % 400):\n",
    "        print(\"Year is also a century year\")\n",
    "    else:\n",
    "        print(\"Year is also a century year\")\n",
    "else:\n",
    "    print(\"Year is not a leap year\")"
   ]
  },
  {
   "cell_type": "code",
   "execution_count": 4,
   "id": "2ac4199c-7461-4d60-8674-86a6b8a2bd93",
   "metadata": {},
   "outputs": [
    {
     "name": "stdin",
     "output_type": "stream",
     "text": [
      "Enter Any Number 7\n"
     ]
    },
    {
     "name": "stdout",
     "output_type": "stream",
     "text": [
      "7 is a prime number:\n"
     ]
    }
   ],
   "source": [
    "# 20. Develop a program that checks if a given number is prime or not using nested if-else statements.\n",
    "\n",
    "#Code:-\n",
    "\n",
    "num = int(input(\"Enter Any Number\"))\n",
    "\n",
    "isprime = True\n",
    "\n",
    "if(num <= 2):\n",
    "    print(\"Number is Prime\")\n",
    "    \n",
    "    \n",
    "else:\n",
    "    \n",
    "    for i in range(2, int(num ** 0.5)+1):\n",
    "        if(num % i == 0):\n",
    "            isprime = False\n",
    "            break\n",
    "            \n",
    "if(isprime == True):\n",
    "    print(f\"{num} is a prime number:\")\n",
    "    \n",
    "else:\n",
    "    print(f\"{num} is not a prime number:\")"
   ]
  },
  {
   "cell_type": "code",
   "execution_count": 1,
   "id": "ea81be8d-09b8-4dae-93b1-2e1fb217af19",
   "metadata": {},
   "outputs": [],
   "source": [
    "#************************************************************************************************#\n",
    "#********************************** ELIF STATEMENTS *********************************************#\n",
    "#************************************************************************************************#"
   ]
  },
  {
   "cell_type": "code",
   "execution_count": 2,
   "id": "c22ff3ab-ea8e-4a51-b163-85e5cb4a18cc",
   "metadata": {},
   "outputs": [
    {
     "name": "stdout",
     "output_type": "stream",
     "text": [
      "B Grade\n"
     ]
    }
   ],
   "source": [
    "# 21. Write a Python program to assign grades based on different ranges of scores using elif statements.\n",
    "\n",
    "#Code:-\n",
    "\n",
    "score = 78\n",
    "\n",
    "if(score >= 85):\n",
    "    print(\"A Grade\")\n",
    "    \n",
    "elif(score >= 75):\n",
    "    print(\"B Grade\")\n",
    "    \n",
    "elif(score >= 65):\n",
    "    print(\"C Grade\")\n",
    "    \n",
    "elif(score >= 50):\n",
    "    print(\"D Grade\")\n",
    "    \n",
    "else:\n",
    "    print(\"Fail\")"
   ]
  },
  {
   "cell_type": "code",
   "execution_count": 7,
   "id": "b4cf9757-280b-4081-9509-839496e89f2f",
   "metadata": {},
   "outputs": [
    {
     "name": "stdin",
     "output_type": "stream",
     "text": [
      "Enter the first angle of triangle: 90\n",
      "Enter the second angle of triangle: 80\n",
      "Enter the third angle of triangle: 70\n"
     ]
    },
    {
     "name": "stdout",
     "output_type": "stream",
     "text": [
      "Its a Right Triangle\n"
     ]
    }
   ],
   "source": [
    "# 22. Implement a program to determine the type of a triangle based on its angles.\n",
    "\n",
    "#Code:-\n",
    "\n",
    "angle_A = int(input(\"Enter the first angle of triangle:\"))\n",
    "angle_B = int(input(\"Enter the second angle of triangle:\"))\n",
    "angle_C = int(input(\"Enter the third angle of triangle:\"))\n",
    "\n",
    "Triangle_type = \"Triangle\"\n",
    "\n",
    "if(angle_A < 90 and angle_B < 90 and angle_C < 90):\n",
    "    Triangle_type = \"Acute Triangle\"\n",
    "    \n",
    "elif(angle_A == 90 and angle_B < 90 and angle_C < 90):\n",
    "    Triangle_type = \"Right Triangle\"\n",
    "\n",
    "\n",
    "elif(angle_A < 90 and angle_B == 90 and angle_C < 90):\n",
    "    Triangle_type = \"Right Triangle\"\n",
    "    \n",
    "    \n",
    "elif(angle_A < 90 and angle_B < 90 and angle_C == 90):\n",
    "    Triangle_type = \"Right Triangle\"\n",
    "    \n",
    "elif(angle_A > 90 and angle_B < 90 and angle_C < 90):\n",
    "    Triangle_type = \"Obtuse Triangle\"\n",
    "    \n",
    "elif(angle_A < 90 and angle_B > 90 and angle_C <90):\n",
    "    Triangle_type = \"Obtuse Triangle\"\n",
    "    \n",
    "elif(angle_A <90 and angle_B < 90 and angle_C > 90):\n",
    "    Triangle_type = \"Obtuse Triangle\"\n",
    "    \n",
    "print(f\"\\nIts a {Triangle_type}\")"
   ]
  },
  {
   "cell_type": "code",
   "execution_count": 20,
   "id": "c915cd53-40d8-428f-a2a8-86622f444697",
   "metadata": {},
   "outputs": [
    {
     "name": "stdin",
     "output_type": "stream",
     "text": [
      "Enter your weight in kg 55\n",
      "Enter your height in centimeters 159\n"
     ]
    },
    {
     "name": "stdout",
     "output_type": "stream",
     "text": [
      "Your weight is normal\n"
     ]
    }
   ],
   "source": [
    "# 23. Develop a program to categorize a given person's BMI into underweight, normal, overweight, or obese using  elif statements.\n",
    "\n",
    "#Code:-\n",
    "\n",
    "weight = float(input(\"Enter your weight in kg\"))\n",
    "height = float(input(\"Enter your height in centimeters\"))\n",
    "\n",
    "BMI = float(weight/(height*height)) * 10000\n",
    "\n",
    "if(BMI < 18.5):\n",
    "    print(\"You are under weight\")\n",
    "elif(18.5 <= BMI <= 24.9):\n",
    "    print(\"Your weight is normal\")\n",
    "elif(25 <= BMI <= 29.9):\n",
    "    print(\"You are over weight\")\n",
    "else:\n",
    "    print(\"You are in obese range\")"
   ]
  },
  {
   "cell_type": "code",
   "execution_count": 22,
   "id": "fc8dd85d-6e4a-4d01-83fe-c09c568d2483",
   "metadata": {},
   "outputs": [
    {
     "name": "stdout",
     "output_type": "stream",
     "text": [
      "Given number is positive\n"
     ]
    }
   ],
   "source": [
    "# 24. Create a program that determines whether a given number is positive, negative, or zero using elif statements.\n",
    "\n",
    "#Code:-\n",
    "\n",
    "num = 10\n",
    "\n",
    "if(num == 0):\n",
    "    print(\"Given number is zero\")\n",
    "    \n",
    "elif(num > 0):\n",
    "    print(\"Given number is positive\")\n",
    "    \n",
    "elif(num < 0):\n",
    "    print(\"Given number is negative\")"
   ]
  },
  {
   "cell_type": "code",
   "execution_count": 25,
   "id": "16a59379-8559-4eed-8007-4d44b25fc248",
   "metadata": {},
   "outputs": [
    {
     "name": "stdout",
     "output_type": "stream",
     "text": [
      "Character is lower case letter\n"
     ]
    }
   ],
   "source": [
    "# 25. Write a Python script to determine the type of a character (uppercase, lowercase, or special) using elif statements.\n",
    "\n",
    "#Code:-\n",
    "\n",
    "c = 'a'\n",
    "\n",
    "if('a' <= c <= 'z'):\n",
    "    print(\"Character is lower case letter\")\n",
    "        \n",
    "elif('A' <= c <= 'Z'):\n",
    "    print(\"Character is upper case letter\")\n",
    "    \n",
    "else:\n",
    "    print(\"Character is a special character\")"
   ]
  },
  {
   "cell_type": "code",
   "execution_count": 8,
   "id": "fc7f8b62-2034-4135-a537-2b7fbc351661",
   "metadata": {},
   "outputs": [
    {
     "name": "stdin",
     "output_type": "stream",
     "text": [
      "Enter purchase amount 3000\n"
     ]
    },
    {
     "name": "stdout",
     "output_type": "stream",
     "text": [
      "\n",
      "You get 3% discount on your purchase\n",
      "\n",
      "Thanks for Shoping\n"
     ]
    }
   ],
   "source": [
    "# 26. Implement a program to calculate the discounted price based on different purchase amounts using elif statements.\n",
    "\n",
    "#Code:-\n",
    "\n",
    "purchase_amount = float(input(\"Enter purchase amount\"))\n",
    "\n",
    "if(purchase_amount >= 1000):\n",
    "    print(\"\\nYou get 3% discount on your purchase\")\n",
    "    \n",
    "elif(purchase_amount >= 5000):\n",
    "    print(\"\\nYou get 5% discount on your purchase\")\n",
    "    \n",
    "elif(purchase_amount >= 1000):\n",
    "    print(\"\\nYou get 10% discount on your purchase\")\n",
    "    \n",
    "print(\"\\nThanks for Shoping\")"
   ]
  },
  {
   "cell_type": "code",
   "execution_count": 9,
   "id": "e59a6b15-63d4-4521-833a-8632d220792f",
   "metadata": {},
   "outputs": [
    {
     "name": "stdin",
     "output_type": "stream",
     "text": [
      "\n",
      "Enter consumption of electricity in units:  200\n"
     ]
    },
    {
     "name": "stdout",
     "output_type": "stream",
     "text": [
      "Total Bill is: 125.0 Rs\n"
     ]
    }
   ],
   "source": [
    "# 27. Develop a program to calculate the electricity bill based on different consumption slabs using elif statements.\n",
    "\n",
    "#Code:-\n",
    "\n",
    "slab1_limit = 100\n",
    "slab2_limit = 200\n",
    "\n",
    "slab1_rate = 0.5\n",
    "slab2_rate = 0.75\n",
    "slab3_rate = 1.0\n",
    "\n",
    "consumption = float(input(\"\\nEnter consumption of electricity in units: \"))\n",
    "\n",
    "bill = 0\n",
    "\n",
    "if consumption >= 0:\n",
    "    \n",
    "    if consumption <= slab1_limit:\n",
    "        bill = consumption * slab1_rate\n",
    "    \n",
    "    elif consumption <= slab2_limit:\n",
    "        bill = (slab1_limit * slab1_rate) + ((consumption - slab1_limit) * slab2_rate)\n",
    "    \n",
    "    else:\n",
    "        bill = (slab1_limit * slab1_rate) + (slab2_limit * slab2_rate) + (consumption - slab2_limit) * slab3_limit\n",
    "        \n",
    "else:\n",
    "    print(\"\\nConsumtion should be greater than zero: \")\n",
    "    \n",
    "print(f\"Total Bill is: {bill} Rs\")"
   ]
  },
  {
   "cell_type": "code",
   "execution_count": 3,
   "id": "797a2eb1-1200-4382-996e-319e88a1effd",
   "metadata": {},
   "outputs": [
    {
     "name": "stdin",
     "output_type": "stream",
     "text": [
      "Enter first angle 90\n",
      "Enter second angle 90\n",
      "Enter third angle 90\n",
      "Enter fourth angle 90\n",
      "\n",
      "\n",
      "Enter the length of side1 5\n",
      "Enter the length of side2 5\n",
      "Enter the length of side3 5\n",
      "Enter the length of side4 5\n"
     ]
    },
    {
     "name": "stdout",
     "output_type": "stream",
     "text": [
      "Quadrillateral Type is Rectangle\n"
     ]
    }
   ],
   "source": [
    "# 28. Create a program to determine the type of quadrilateral based on its angles and sides using elif statements.\n",
    "\n",
    "#Code:-\n",
    "\n",
    "angle1 = float(input(\"Enter first angle\"))\n",
    "angle2 = float(input(\"Enter second angle\"))\n",
    "angle3 = float(input(\"Enter third angle\"))\n",
    "angle4 = float(input(\"Enter fourth angle\"))\n",
    "\n",
    "side1 = int(input(\"\\n\\nEnter the length of side1\"))\n",
    "side2 = int(input(\"Enter the length of side2\"))\n",
    "side3 = int(input(\"Enter the length of side3\"))\n",
    "side4 = int(input(\"Enter the length of side4\"))\n",
    "\n",
    "quadrillateral_type = \"NoN\"\n",
    "\n",
    "if(angle1 == angle2 == angle3 == angle4 == 90):\n",
    "    quadrillateral_type = \"Rectangle\"\n",
    "    \n",
    "elif(angle1 == angle2 == angle3 == angle4) and (side1 == side2 == side3 == side4):\n",
    "    quadrillateral_type = \"Square\"\n",
    "\n",
    "elif(angle1 == angle2 == angle3 == angle4):\n",
    "    quadrillateral_type = \"Rhombus\"\n",
    "\n",
    "elif(side1 == side2 == side3 == side4):\n",
    "    quadrillateral_type = \"Parallelogram\"\n",
    "\n",
    "elif angle1 == angle3 and angle2 == angle4 and side1 == side3 and side2 == side4:\n",
    "    quadrillateral_type = \"Kite\"\n",
    "\n",
    "else:\n",
    "    quadrillateral_type = \"Quadrillateral (other)\"\n",
    "\n",
    "print(f\"\\nQuadrillateral Type is {quadrillateral_type}\")"
   ]
  },
  {
   "cell_type": "code",
   "execution_count": 4,
   "id": "6c437bae-8f81-4116-a3c0-992ae2be6e79",
   "metadata": {},
   "outputs": [
    {
     "name": "stdin",
     "output_type": "stream",
     "text": [
      "Enter present month in no e.g 1-12 to check for season:  3\n"
     ]
    },
    {
     "name": "stdout",
     "output_type": "stream",
     "text": [
      "Cureent season is Spring\n"
     ]
    }
   ],
   "source": [
    "# 29. Write a Python script to determine the season based on a user-provided month using elif statements.\n",
    "\n",
    "#Code:-\n",
    "\n",
    "month = int(input(\"Enter present month in no e.g 1-12 to check for season: \"))\n",
    "\n",
    "if(month == 1) or (month == 2) or (month == 12):\n",
    "    print(\"Current Season is Winter\")\n",
    "elif(month == 3) or (month == 4) or (month == 5):\n",
    "    print(\"Cureent season is Spring\")\n",
    "elif(month == 6) or (month == 7) or (month == 8):\n",
    "    print(\"Current season is Summer\")\n",
    "elif(month == 9) or (month == 10) or (month == 11):\n",
    "    print(\"Current season is Autom\")\n",
    "else:\n",
    "    print(\"Invalid Month\")"
   ]
  },
  {
   "cell_type": "code",
   "execution_count": 11,
   "id": "2c7bdc6f-b8b7-4c32-be50-1d2b5063c7bc",
   "metadata": {},
   "outputs": [
    {
     "name": "stdin",
     "output_type": "stream",
     "text": [
      "Enter year 2000\n",
      "Enter month in number's (1-12)  3\n"
     ]
    },
    {
     "name": "stdout",
     "output_type": "stream",
     "text": [
      "\n",
      "Month has 31 day's\n",
      "\n",
      "Year is leap year\n"
     ]
    }
   ],
   "source": [
    "# 30. Implement a program to determine the type of a year (leap or common) and month (30 or 31 days) using elif statements.\n",
    "\n",
    "#Code:-\n",
    "\n",
    "year = int(input(\"Enter year\"))\n",
    "\n",
    "month = int(input(\"Enter month in number's (1-12) \"))\n",
    "\n",
    "if(1 <= month <= 12):\n",
    "    \n",
    "    if(month in [1,3,5,7,8,10,12]):\n",
    "        print(\"\\nMonth has 31 day's\")\n",
    "        \n",
    "    elif(month in [4,6,11]):\n",
    "        print(\"\\nMonth has 30 day's\")\n",
    "        \n",
    "else:\n",
    "    print(\"Invalid Month\")\n",
    "\n",
    "if(year % 4 == 0):\n",
    "    print(\"\\nYear is leap year\")\n",
    "else:\n",
    "    print(\"\\nyear is a common year\")"
   ]
  },
  {
   "cell_type": "code",
   "execution_count": 10,
   "id": "434e6d04-46f4-4acb-a741-a5107bd42ecc",
   "metadata": {},
   "outputs": [],
   "source": [
    "#*********************************************************************************************#\n",
    "#*********************************** BASIC LEVEL PROBLEMS ***********************************#\n",
    "#********************************************************************************************#"
   ]
  },
  {
   "cell_type": "code",
   "execution_count": 12,
   "id": "d7704ca7-450e-4049-887c-f85f26caa718",
   "metadata": {},
   "outputs": [],
   "source": [
    "# 1. Write a Python program that checks if a given number is positive, negative, or zero.\n",
    "\n",
    "#Code:-\n",
    "\n",
    "num = int(input(\"Enter any Number\"))\n",
    "\n",
    "if(num == 0):\n",
    "    print(\"Given number is zero\")\n",
    "    \n",
    "elif(num > 0):\n",
    "    print(\"Given number is positive\")\n",
    "    \n",
    "elif(num < 0):\n",
    "    print(\"Given number is negative\")"
   ]
  },
  {
   "cell_type": "code",
   "execution_count": 13,
   "id": "2dc54a2f-1ac7-4a5f-9a3b-faee7b3ed786",
   "metadata": {},
   "outputs": [],
   "source": [
    "# 2. Create a program to determine if a person is eligible to vote based on their age.\n",
    "\n",
    "#Code:-\n",
    "\n",
    "age = int(input(\"Enter the age of a person\"))\n",
    "\n",
    "if(age >= 13):\n",
    "    if(age <= 19):\n",
    "        print(\"Person is a teenager\")\n",
    "    else:\n",
    "        print(\"person is not a teen ager\")        \n",
    "else:\n",
    "    print(\"person is not a teen ager\")"
   ]
  },
  {
   "cell_type": "code",
   "execution_count": 24,
   "id": "92b22fd5-c999-4c1b-992b-a329aa51401a",
   "metadata": {},
   "outputs": [
    {
     "name": "stdin",
     "output_type": "stream",
     "text": [
      "Enter first Number 2\n",
      "Enter second Number 3\n"
     ]
    },
    {
     "name": "stdout",
     "output_type": "stream",
     "text": [
      "3\n"
     ]
    }
   ],
   "source": [
    "# 3. Write a program to find the maximum of two given numbers using conditional statements.\n",
    "\n",
    "#Code:-\n",
    "\n",
    "a = int(input(\"Enter first Number\"))\n",
    "\n",
    "b = int(input(\"Enter second Number\"))\n",
    "\n",
    "if(a > b):\n",
    "    print(a)\n",
    "else:\n",
    "    print(b)"
   ]
  },
  {
   "cell_type": "code",
   "execution_count": 21,
   "id": "b22eb1d3-3605-436c-97a7-5500017325ff",
   "metadata": {},
   "outputs": [
    {
     "name": "stdout",
     "output_type": "stream",
     "text": [
      "B Grade\n"
     ]
    }
   ],
   "source": [
    "# 4. Develop a program that calculates the grade of a student based on their exam score.\n",
    "\n",
    "#Code:-\n",
    "\n",
    "score = 78\n",
    "\n",
    "if(0 <= score <= 100):\n",
    "    \n",
    "    if(score >= 85):\n",
    "        print(\"A Grade\")\n",
    "        \n",
    "    elif(score >= 75):\n",
    "        print(\"B Grade\")\n",
    "    \n",
    "    elif(score >= 65):\n",
    "        print(\"C Grade\")\n",
    "    \n",
    "    elif(score >= 50):\n",
    "        print(\"D Grade\")\n",
    "        \n",
    "    else:\n",
    "        print(\"Fail\")\n",
    "        \n",
    "else:\n",
    "    print(\"Invalid Score\")"
   ]
  },
  {
   "cell_type": "code",
   "execution_count": 23,
   "id": "bc1e673a-6ffe-4ad5-b804-accb9bae08dd",
   "metadata": {},
   "outputs": [
    {
     "name": "stdin",
     "output_type": "stream",
     "text": [
      "Enter year 2000\n"
     ]
    },
    {
     "name": "stdout",
     "output_type": "stream",
     "text": [
      "Year is a leap year\n"
     ]
    }
   ],
   "source": [
    "# 5. Create a program that checks if a year is a leap year or not.\n",
    "\n",
    "#Code:-\n",
    "\n",
    "year = int(input(\"Enter year\"))\n",
    "\n",
    "\n",
    "if(year % 4 == 0):\n",
    "    print(\"Year is a leap year\")\n",
    "    \n",
    "else:\n",
    "    print(\"Year is not a leap year\")"
   ]
  },
  {
   "cell_type": "code",
   "execution_count": 1,
   "id": "4c1ec962-9f27-4500-8c18-79d7e4891822",
   "metadata": {},
   "outputs": [
    {
     "name": "stdin",
     "output_type": "stream",
     "text": [
      "Enter first side of a triangle 3\n",
      "Enter second side of a triangle 2\n",
      "Enter third side of a triangle 3\n"
     ]
    },
    {
     "name": "stdout",
     "output_type": "stream",
     "text": [
      "\n",
      "It's an Isocelles Triangle\n"
     ]
    }
   ],
   "source": [
    "## 6. Write a program to classify a triangle based on its sides' lengths.\n",
    "\n",
    "#Code:-\n",
    "\n",
    "side_A = float(input(\"Enter first side of a triangle\"))\n",
    "\n",
    "side_B = float(input(\"Enter second side of a triangle\"))\n",
    "\n",
    "side_C = float(input(\"Enter third side of a triangle\"))\n",
    "\n",
    "\n",
    "if(side_A == side_B == side_C):\n",
    "    print(\"It's an equilateral triangle\")\n",
    "    \n",
    "elif(side_A == side_B) and (side_B != side_C):\n",
    "    print(\"\\nIt's an isocelles Triangle\")\n",
    "\n",
    "elif(side_B == side_C) and (side_A != side_B):\n",
    "    print(\"\\nIt's an Isocelles Triangle\")\n",
    "\n",
    "elif(side_A == side_C) and (side_A != side_B):\n",
    "    print(\"\\nIt's an Isocelles Triangle\")\n",
    "\n",
    "else:\n",
    "    print(\"\\nIt's an scalene Triangle\")"
   ]
  },
  {
   "cell_type": "code",
   "execution_count": 18,
   "id": "a3e4a695-fada-44e3-981b-5e908437a9a2",
   "metadata": {},
   "outputs": [],
   "source": [
    "# 7. Build a program that determines the largest of three given numbers.\n",
    "\n",
    "#Code:-\n",
    "\n",
    "a =10\n",
    "b = 20\n",
    "c = 30\n",
    "\n",
    "if(a > b):\n",
    "    if(a > c):\n",
    "        print(a, \" is largest\")\n",
    "        \n",
    "if(b > a):\n",
    "    if(b > c):\n",
    "        print(b, \" is largest\")\n",
    "        \n",
    "if(c > a):\n",
    "    if(c > b):\n",
    "        print(c, \" is largest\")"
   ]
  },
  {
   "cell_type": "code",
   "execution_count": 22,
   "id": "a7a8ee02-637b-4bda-82bf-5e0b9e900f03",
   "metadata": {},
   "outputs": [
    {
     "name": "stdout",
     "output_type": "stream",
     "text": [
      "It's a consonant\n"
     ]
    }
   ],
   "source": [
    "# 8. Develop a program that checks whether a character is a vowel or a consonant.\n",
    "\n",
    "#Code:-\n",
    "\n",
    "s = 't'\n",
    "c = s\n",
    "c.lower()\n",
    "\n",
    "if(c == 'a' or c == 'i' or c == 'o' or c == 'u' or c == 'e'):\n",
    "    print(\"It's a vowel\")\n",
    "else:\n",
    "    print(\"It's a consonant\")"
   ]
  },
  {
   "cell_type": "code",
   "execution_count": 9,
   "id": "f6cba574-c737-422c-9bc1-3cbb9dac9de7",
   "metadata": {},
   "outputs": [
    {
     "name": "stdout",
     "output_type": "stream",
     "text": [
      "Total cost of the shopping cart: $77.00\n"
     ]
    }
   ],
   "source": [
    "# 9. Create a program to calculate the total cost of a shopping cart based on discounts.\n",
    "\n",
    "#Code:-\n",
    "\n",
    "# Define a dictionary to store the items and their prices\n",
    "item_prices = {\n",
    "    \"item1\": 10.0,\n",
    "    \"item2\": 15.0,\n",
    "    \"item3\": 5.0,\n",
    "    # Add more items and prices here\n",
    "}\n",
    "\n",
    "# Define a dictionary to store discount rules (item_name: (discount_percentage, min_quantity))\n",
    "discounts = {\n",
    "    \"item1\": (10, 2),  # 10% discount if you buy 2 or more of item1\n",
    "    \"item2\": (15, 3),  # 15% discount if you buy 3 or more of item2\n",
    "    # Add more discount rules here\n",
    "}\n",
    "\n",
    "# Initialize an empty shopping cart as a dictionary\n",
    "shopping_cart = {}\n",
    "\n",
    "# Function to calculate the total cost of the shopping cart\n",
    "def calculate_total_cost(cart):\n",
    "    total_cost = 0.0\n",
    "    for item, quantity in cart.items():\n",
    "        if item in item_prices:\n",
    "            price = item_prices[item]\n",
    "            if item in discounts and quantity >= discounts[item][1]:\n",
    "                # Apply the discount\n",
    "                discount_percentage = discounts[item][0]\n",
    "                price -= (price * discount_percentage / 100)\n",
    "            total_cost += price * quantity\n",
    "    return total_cost\n",
    "\n",
    "# Add items to the shopping cart\n",
    "shopping_cart[\"item1\"] = 3\n",
    "shopping_cart[\"item2\"] = 2\n",
    "shopping_cart[\"item3\"] = 4\n",
    "\n",
    "# Calculate the total cost\n",
    "total_cost = calculate_total_cost(shopping_cart)\n",
    "\n",
    "# Print the total cost\n",
    "print(f\"Total cost of the shopping cart: ${total_cost:.2f}\")"
   ]
  },
  {
   "cell_type": "code",
   "execution_count": 25,
   "id": "385df182-1a8c-4d3a-bbf1-b7ee56df611f",
   "metadata": {},
   "outputs": [
    {
     "name": "stdin",
     "output_type": "stream",
     "text": [
      "Enter any number 3\n"
     ]
    },
    {
     "name": "stdout",
     "output_type": "stream",
     "text": [
      "Num is Odd\n"
     ]
    }
   ],
   "source": [
    "# 10. Write a program that checks if a given number is even or odd.\n",
    "\n",
    "#Code:-\n",
    "\n",
    "num = int(input(\"Enter any number\"))\n",
    "\n",
    "\n",
    "if(num % 2 == 0):\n",
    "    print(\"Num is Even\")\n",
    "else:\n",
    "    print(\"Num is Odd\")"
   ]
  },
  {
   "cell_type": "code",
   "execution_count": 1,
   "id": "b9802b01-b34e-4562-92ab-245a85fd738b",
   "metadata": {},
   "outputs": [],
   "source": [
    "#*************************************************************************************************#\n",
    "#******************************* INTERMEDIATE LEVEL PROBLEMS *************************************#\n",
    "#*************************************************************************************************#"
   ]
  },
  {
   "cell_type": "code",
   "execution_count": 5,
   "id": "a29f92f0-f4ae-4ada-8d72-fb5bf0c60e3f",
   "metadata": {},
   "outputs": [
    {
     "name": "stdin",
     "output_type": "stream",
     "text": [
      "Enter the value of a 3\n",
      "Enter the value of b 2\n",
      "Enter the value of c 1\n"
     ]
    },
    {
     "name": "stdout",
     "output_type": "stream",
     "text": [
      "The roots are (-0.3333333333333333+0.47140452079103173j) and (-0.3333333333333333+0.47140452079103173j) \n"
     ]
    }
   ],
   "source": [
    "# 11. Write a program that calculates the roots of a quadratic equation .\n",
    "\n",
    "#Code:-\n",
    "\n",
    "import math\n",
    "\n",
    "def calculate_quadratic_roots(a, b, c):\n",
    "    discriminant = b**2 - 4*a*c\n",
    "    \n",
    "    if(discriminant > 0):\n",
    "        root1 = (-b + math.sqrt(discriminant)) / (2*a)\n",
    "        root2 = (-b - math.sqrt(discriminant)) / (2*a)\n",
    "        \n",
    "        return root1,root2\n",
    "    \n",
    "    elif(discriminant == 0):\n",
    "        root1 = root2 = -b/(2*a)\n",
    "        return root1, root2\n",
    "    \n",
    "    else:\n",
    "        real_part = -b / (2*a)\n",
    "        imaginary_part = math.sqrt(abs(discriminant)) / (2*a)\n",
    "        \n",
    "        root1 = complex(real_part,imaginary_part)\n",
    "        root2 = complex(real_part,imaginary_part)\n",
    "        \n",
    "        return root1,root2\n",
    "    \n",
    "# Function Call\n",
    "\n",
    "a = float(input(\"Enter the value of a\"))\n",
    "\n",
    "b = float(input(\"Enter the value of b\"))\n",
    "\n",
    "c = float(input(\"Enter the value of c\"))\n",
    "\n",
    "roots = calculate_quadratic_roots(a,b,c)\n",
    "\n",
    "if isinstance(roots,tuple):\n",
    "    print(f\"The roots are {roots[0]} and {roots[1]} \")\n",
    "else:\n",
    "    print(f\"The root is {roots}\")"
   ]
  },
  {
   "cell_type": "code",
   "execution_count": 3,
   "id": "17ff6c93-3339-4dc5-b374-809d0a5f7067",
   "metadata": {},
   "outputs": [],
   "source": [
    "# 12. Create a program that determines the day of the week based on the day number (1-7).\n",
    "\n",
    "#Code:-\n",
    "\n",
    "day = 6\n",
    "\n",
    "if(day > 0):\n",
    "    if(day <= 7):\n",
    "        if(day == 1):\n",
    "            print(\"Day is Monday\")\n",
    "        if(day == 2):\n",
    "            print(\"Day is Tuesday\")\n",
    "        if(day == 3):\n",
    "            print(\"Day is Wednesday\")\n",
    "        if(day == 4):\n",
    "            print(\"Day is Thursday\")\n",
    "        if(day == 5):\n",
    "            print(\"Day is Friday\")\n",
    "        if(day == 6):\n",
    "            print(\"Day is Saturday\")\n",
    "        if(day == 7):\n",
    "            print(\"Day is Sunday\")\n",
    "    else:\n",
    "        print(\"Invalid Day\")     \n",
    "else:\n",
    "    print(\"Invalid Day\")\n"
   ]
  },
  {
   "cell_type": "code",
   "execution_count": 7,
   "id": "a5d83da9-36cf-4ac7-830e-d6b243acd030",
   "metadata": {},
   "outputs": [
    {
     "data": {
      "text/plain": [
       "120"
      ]
     },
     "execution_count": 7,
     "metadata": {},
     "output_type": "execute_result"
    }
   ],
   "source": [
    "# 13. Develop a program that calculates the factorial of a given number using recursion\n",
    "\n",
    "#Code:-\n",
    "\n",
    "def fact(n):\n",
    "    \n",
    "    if(n == 0):\n",
    "        return 1\n",
    "    else:\n",
    "        return n * fact(n-1)\n",
    "\n",
    "#Func Call\n",
    "\n",
    "fact(5)"
   ]
  },
  {
   "cell_type": "code",
   "execution_count": 8,
   "id": "9d206656-7a50-4f63-8e6c-30e0859b4327",
   "metadata": {},
   "outputs": [],
   "source": [
    "# 14. Write a program to find the largest among three numbers without using the `max()` function.\n",
    "\n",
    "#Code:-\n",
    "\n",
    "\n",
    "a =10\n",
    "b = 20\n",
    "c = 30\n",
    "\n",
    "if(a > b):\n",
    "    if(a > c):\n",
    "        print(a, \" is largest\")\n",
    "        \n",
    "if(b > a):\n",
    "    if(b > c):\n",
    "        print(b, \" is largest\")\n",
    "        \n",
    "if(c > a):\n",
    "    if(c > b):\n",
    "        print(c, \" is largest\")"
   ]
  },
  {
   "cell_type": "code",
   "execution_count": 11,
   "id": "61a28d2a-bb11-442d-8d73-ee0c3130d2cf",
   "metadata": {},
   "outputs": [
    {
     "name": "stdout",
     "output_type": "stream",
     "text": [
      "Welcome to our ATM services\n",
      "\n",
      "1. Balance Check\n",
      "2. Cash Withdraw\n",
      "3. Cash Deposit\n",
      "4. Exit\n",
      "\n",
      "******************************************************************************************************\n"
     ]
    },
    {
     "name": "stdin",
     "output_type": "stream",
     "text": [
      "Enter Your Choice:  2\n",
      "\n",
      "Enter amount you want to withdraw:  230\n"
     ]
    },
    {
     "name": "stdout",
     "output_type": "stream",
     "text": [
      "\n",
      "You have successfully withdraw 230 Rs\n",
      "\n",
      "Your current account balance is  3770\n"
     ]
    },
    {
     "name": "stdin",
     "output_type": "stream",
     "text": [
      "\n",
      "\n",
      "Would you like to have another ATM Transaction ?\n",
      "\n",
      "Enter 'y' to proceed again or n or anything to cancel n\n"
     ]
    }
   ],
   "source": [
    "# 15. Create a program that simulates a basic ATM transaction menu.\n",
    "\n",
    "#Code:-\n",
    "\n",
    "Balance = 4000\n",
    "\n",
    "print('''Welcome to our ATM services\n",
    "\n",
    "1. Balance Check\n",
    "2. Cash Withdraw\n",
    "3. Cash Deposit\n",
    "4. Exit\n",
    "\n",
    "******************************************************************************************************''')\n",
    "\n",
    "check = 'y'\n",
    "\n",
    "while(check == 'y'):\n",
    "    \n",
    "    user_choice = int(input(\"Enter Your Choice: \"))\n",
    "    \n",
    "    if(1 <= user_choice <= 4):\n",
    "    \n",
    "        if(user_choice == 1):\n",
    "            print(\"Your current balance is \", Balance)\n",
    "            \n",
    "    \n",
    "        elif(user_choice == 2):\n",
    "            amount = int(input(\"\\nEnter amount you want to withdraw: \"))\n",
    "            Balance = Balance - amount\n",
    "            print(f\"\\nYou have successfully withdraw {amount} Rs\")\n",
    "            print(\"\\nYour current account balance is \", Balance)\n",
    "            \n",
    "        \n",
    "        elif(user_choice == 3):\n",
    "            amount = int(input(\"\\nEnter amount you want to Deposit\"))\n",
    "            Balance += amount\n",
    "            print(\"\\nYou have successfully Deposited \",amount)\n",
    "            print(\"Your current account balance is \",Balance)\n",
    "            \n",
    "        \n",
    "        elif(user_choice == 4):\n",
    "            pass\n",
    "    else:\n",
    "        print(\"User Choice out of range: \")\n",
    "    \n",
    "    check = input('''\\n\\nWould you like to have another ATM Transaction ?\\n\n",
    "Enter 'y' to proceed again or n or anything to cancel''')"
   ]
  },
  {
   "cell_type": "code",
   "execution_count": 15,
   "id": "86ec3c08-6868-4f23-ab29-f527a3c0010b",
   "metadata": {},
   "outputs": [
    {
     "name": "stdin",
     "output_type": "stream",
     "text": [
      "Enter anything Maham\n"
     ]
    },
    {
     "name": "stdout",
     "output_type": "stream",
     "text": [
      "\n",
      "String is palindrome:\n"
     ]
    }
   ],
   "source": [
    "# 16. Build a program that checks if a given string is a palindrome or not.\n",
    "\n",
    "#Code:-\n",
    "\n",
    "my_string = input(\"Enter anything\")\n",
    "\n",
    "s1 = my_string[::-1]\n",
    "\n",
    "s1.lower()\n",
    "\n",
    "s2 = s1\n",
    "\n",
    "if(s1 == s2):\n",
    "    print(\"\\nString is palindrome:\")\n",
    "\n",
    "else:\n",
    "    print(\"\\nString is not palindrome\")"
   ]
  },
  {
   "cell_type": "code",
   "execution_count": 24,
   "id": "b4b4224a-14c6-4955-94e7-ff5ead4a375b",
   "metadata": {},
   "outputs": [
    {
     "data": {
      "text/plain": [
       "3.5"
      ]
     },
     "execution_count": 24,
     "metadata": {},
     "output_type": "execute_result"
    }
   ],
   "source": [
    "# 17. Write a program that calculates the average of a list of numbers, excluding the smallest and largest values.\n",
    "\n",
    "#Code:-\n",
    "\n",
    "l = [1,2,3,4,5,6]\n",
    "\n",
    "sum = 0\n",
    "\n",
    "for i in l:\n",
    "    if(i != max(l)) and (i != min(l)):\n",
    "        sum+=i\n",
    "\n",
    "average = sum/(len(l)-2)\n",
    "\n",
    "average"
   ]
  },
  {
   "cell_type": "code",
   "execution_count": 26,
   "id": "d7cdacb1-6f6c-4a2d-a1c0-a10734d4ff14",
   "metadata": {},
   "outputs": [
    {
     "data": {
      "text/plain": [
       "32.0"
      ]
     },
     "execution_count": 26,
     "metadata": {},
     "output_type": "execute_result"
    }
   ],
   "source": [
    "# 18. Develop a program that converts a given temperature from Celsius to Fahrenheit.\n",
    "\n",
    "#Code:-\n",
    "\n",
    "celcius = 0\n",
    "\n",
    "fahrenheit = (celcius * 9/5) + 32\n",
    "\n",
    "fahrenheit"
   ]
  },
  {
   "cell_type": "code",
   "execution_count": 30,
   "id": "9cac907c-120b-44fd-a31d-a9cb617614a3",
   "metadata": {},
   "outputs": [
    {
     "name": "stdin",
     "output_type": "stream",
     "text": [
      "Enter first Number 23\n",
      "Enter second Number 3\n"
     ]
    },
    {
     "name": "stdout",
     "output_type": "stream",
     "text": [
      "\n",
      "Enter Operation you want to perform: \n",
      "\n",
      "\n",
      "1. Press '+' for addition\n",
      "2. Press '-' for subtraction\n",
      "2. Press '*' for multiplication\n",
      "3. Press '' for division\n",
      "\n",
      "\n"
     ]
    },
    {
     "name": "stdin",
     "output_type": "stream",
     "text": [
      " -\n"
     ]
    },
    {
     "name": "stdout",
     "output_type": "stream",
     "text": [
      "20\n"
     ]
    }
   ],
   "source": [
    "# 19. Create a program that simulates a basic calculator for addition, subtraction, multiplication, and division.\n",
    "\n",
    "#Code:-\n",
    "\n",
    "num1 = int(input(\"Enter first Number\"))\n",
    "\n",
    "num2 = int(input(\"Enter second Number\"))\n",
    "\n",
    "print(\"\\nEnter Operation you want to perform: \")\n",
    "\n",
    "print('''\\n\\n1. Press '+' for addition\n",
    "2. Press '-' for subtraction\n",
    "2. Press '*' for multiplication\n",
    "3. Press '\\' for division\\n\\n''')\n",
    "\n",
    "operator = input()\n",
    "\n",
    "if(operator == '+'):\n",
    "    print(num1 + num2)\n",
    "    \n",
    "elif(operator == '-'):\n",
    "    print(num1 - num2)\n",
    "    \n",
    "elif(operator == '*'):\n",
    "    print(num1 * num2)\n",
    "\n",
    "elif(operator == '/'):\n",
    "    print(num1/num2)\n",
    "\n",
    "else:\n",
    "    print(\"invalid operator\")"
   ]
  },
  {
   "cell_type": "code",
   "execution_count": 4,
   "id": "2fcba05e-b3f9-4adf-b31b-f6c8a05120f1",
   "metadata": {},
   "outputs": [],
   "source": [
    "# 20. Write a program that determines the roots of a cubic equation using the Cardano formula.\n",
    "\n",
    "#Code:-\n",
    "\n",
    "# Input coefficients for the cubic equation: ax^3 + bx^2 + cx + d = 0\n",
    "a = float(input(\"Enter coefficient 'a': \"))\n",
    "b = float(input(\"Enter coefficient 'b': \"))\n",
    "c = float(input(\"Enter coefficient 'c': \"))\n",
    "d = float(input(\"Enter coefficient 'd': \"))\n",
    "\n",
    "# Calculate some intermediate values\n",
    "p = (3 * a * c - b**2) / (3 * a**2)\n",
    "q = (2 * b**3 - 9 * a * b * c + 27 * a**2 * d) / (27 * a**3)\n",
    "\n",
    "# Calculate the discriminant of Cardano's formula\n",
    "delta = (q**2 / 4) + (p**3 / 27)\n",
    "\n",
    "# Check if the discriminant is positive, negative, or zero\n",
    "if delta > 0:\n",
    "    # Three real roots\n",
    "    u = (-q / 2 + delta**0.5)**(1/3)\n",
    "    v = (-q / 2 - delta**0.5)**(1/3)\n",
    "    root1 = u + v - b / (3 * a)\n",
    "    root2 = -0.5 * (u + v) - b / (3 * a)\n",
    "    root3 = (u - v) * (3**0.5) / 2\n",
    "    print(\"Root 1:\", root1)\n",
    "    print(\"Root 2:\", root2)\n",
    "    print(\"Root 3:\", root3)\n",
    "elif delta == 0:\n",
    "    # One real root (repeated)\n",
    "    if q >= 0:\n",
    "        root1 = (-q / 2)**(1/3) - b / (3 * a)\n",
    "        root2 = 0.5 * (-q / 2)**(1/3) - b / (3 * a)\n",
    "        print(\"Root 1:\", root1)\n",
    "        print(\"Root 2:\", root2)\n",
    "    else:\n",
    "        root1 = (q / 2)**(1/3) - b / (3 * a)\n",
    "        root2 = -0.5 * (q / 2)**(1/3) - b / (3 * a)\n",
    "        print(\"Root 1:\", root1)\n",
    "        print(\"Root 2:\", root2)\n",
    "else:\n",
    "    # One real root and two complex roots\n",
    "    rho = ((q**2 / 4) - (p**3 / 27))**0.5\n",
    "    theta = (3**0.5 * q) / (2 * rho)\n",
    "    root1 = 2 * rho**(1/3) * sp.cos(sp.acos(theta) / 3) - b / (3 * a)\n",
    "    root2 = 2 * rho**(1/3) * sp.cos((sp.acos(theta) + 2 * sp.pi) / 3) - b / (3 * a)\n",
    "    root3 = 2 * rho**(1/3) * sp.cos((sp.acos(theta) - 2 * sp.pi) / 3) - b / (3 * a)\n",
    "    print(\"Root 1:\", root1)\n",
    "    print(\"Root 2:\", root2)\n",
    "    print(\"Root 3:\", root3)"
   ]
  },
  {
   "cell_type": "code",
   "execution_count": 5,
   "id": "2eb63e5c-8f3c-4624-a6c0-36b715e77d30",
   "metadata": {},
   "outputs": [],
   "source": [
    "#**************************************************************************************************#\n",
    "#***************************** ADVANCE LEVEL PROBLEMS *********************************************#\n",
    "#**************************************************************************************************#"
   ]
  },
  {
   "cell_type": "code",
   "execution_count": 1,
   "id": "22ef5d8e-9fbb-4165-b635-5904eb870a98",
   "metadata": {},
   "outputs": [],
   "source": [
    "# 21. Create a program that calculates the income tax based on the user's income and tax brackets.\n",
    "\n",
    "#Code:-\n",
    "\n",
    "\n",
    "# Define tax brackets and rates\n",
    "tax_brackets = [\n",
    "    (0, 9875, 0.10),\n",
    "    (9876, 40125, 0.12),\n",
    "    (40126, 85525, 0.22),\n",
    "    (85526, 163300, 0.24),\n",
    "    (163301, 207350, 0.32),\n",
    "    (207351, 518400, 0.35),\n",
    "    (518401, float('inf'), 0.37)\n",
    "]\n",
    "\n",
    "# Get user's income as input\n",
    "income_str = input(\"Enter your annual income: $\")\n",
    "if not income_str.isdigit():\n",
    "    print(\"Invalid input. Please enter a valid income as a number.\")\n",
    "    exit()\n",
    "\n",
    "income = float(income_str)\n",
    "\n",
    "# Initialize tax owed and remaining income\n",
    "tax_owed = 0\n",
    "remaining_income = income\n",
    "\n",
    "# Calculate tax without using for loop\n",
    "if remaining_income > tax_brackets[0][1]:\n",
    "    tax_owed += (tax_brackets[0][1] - tax_brackets[0][0]) * tax_brackets[0][2]\n",
    "    remaining_income -= (tax_brackets[0][1] - tax_brackets[0][0])\n",
    "else:\n",
    "    tax_owed += remaining_income * tax_brackets[0][2]\n",
    "    remaining_income = 0\n",
    "\n",
    "if remaining_income > 0:\n",
    "    if remaining_income > (tax_brackets[1][1] - tax_brackets[1][0]):\n",
    "        tax_owed += (tax_brackets[1][1] - tax_brackets[1][0]) * tax_brackets[1][2]\n",
    "        remaining_income -= (tax_brackets[1][1] - tax_brackets[1][0])\n",
    "    else:\n",
    "        tax_owed += remaining_income * tax_brackets[1][2]\n",
    "        remaining_income = 0\n",
    "\n",
    "if remaining_income > 0:\n",
    "    if remaining_income > (tax_brackets[2][1] - tax_brackets[2][0]):\n",
    "        tax_owed += (tax_brackets[2][1] - tax_brackets[2][0]) * tax_brackets[2][2]\n",
    "        remaining_income -= (tax_brackets[2][1] - tax_brackets[2][0])\n",
    "    else:\n",
    "        tax_owed += remaining_income * tax_brackets[2][2]\n",
    "        remaining_income = 0\n",
    "\n",
    "if remaining_income > 0:\n",
    "    if remaining_income > (tax_brackets[3][1] - tax_brackets[3][0]):\n",
    "        tax_owed += (tax_brackets[3][1] - tax_brackets[3][0]) * tax_brackets[3][2]\n",
    "        remaining_income -= (tax_brackets[3][1] - tax_brackets[3][0])\n",
    "    else:\n",
    "        tax_owed += remaining_income * tax_brackets[3][2]\n",
    "        remaining_income = 0\n",
    "\n",
    "if remaining_income > 0:\n",
    "    if remaining_income > (tax_brackets[4][1] - tax_brackets[4][0]):\n",
    "        tax_owed += (tax_brackets[4][1] - tax_brackets[4][0]) * tax_brackets[4][2]\n",
    "        remaining_income -= (tax_brackets[4][1] - tax_brackets[4][0])\n",
    "    else:\n",
    "        tax_owed += remaining_income * tax_brackets[4][2]\n",
    "        remaining_income = 0\n",
    "\n",
    "if remaining_income > 0:\n",
    "    if remaining_income > (tax_brackets[5][1] - tax_brackets[5][0]):\n",
    "        tax_owed += (tax_brackets[5][1] - tax_brackets[5][0]) * tax_brackets[5][2]\n",
    "        remaining_income -= (tax_brackets[5][1] - tax_brackets[5][0])\n",
    "    else:\n",
    "        tax_owed += remaining_income * tax_brackets[5][2]\n",
    "        remaining_income = 0\n",
    "\n",
    "if remaining_income > 0:\n",
    "    tax_owed += remaining_income * tax_brackets[6][2]\n",
    "\n",
    "# Display the calculated tax\n",
    "print(f\"Your income tax for an income of ${income:,.2f} is: ${tax_owed:,.2f}\")"
   ]
  },
  {
   "cell_type": "code",
   "execution_count": 7,
   "id": "6f96ba95-3477-4d62-9bad-b33b7a3c59fa",
   "metadata": {},
   "outputs": [
    {
     "name": "stdout",
     "output_type": "stream",
     "text": [
      "Welcome To 'Z' Games\n",
      "\n",
      "\n"
     ]
    },
    {
     "name": "stdin",
     "output_type": "stream",
     "text": [
      "Press 's' to start the Game rock, paper, scissor: \n",
      " s\n"
     ]
    },
    {
     "name": "stdout",
     "output_type": "stream",
     "text": [
      "\n",
      "Let's Begin\n",
      "\n",
      "\n",
      "1. Rock\n",
      "\n",
      "2. Paper\n",
      "\n",
      "3. Scissor\n"
     ]
    },
    {
     "name": "stdin",
     "output_type": "stream",
     "text": [
      "\n",
      "Enter Number from range (1-3)\n",
      "\n",
      " 3\n"
     ]
    },
    {
     "name": "stdout",
     "output_type": "stream",
     "text": [
      "You Entered Scissor \n",
      "\n",
      "2nd Player Entered Scissor \n",
      "\n",
      "\n",
      "Game Draw\n"
     ]
    },
    {
     "name": "stdin",
     "output_type": "stream",
     "text": [
      "\n",
      "Enter 's' to play again and press anything to quit :  n\n"
     ]
    }
   ],
   "source": [
    "# 22. Write a program that simulates a rock-paper-scissors game against the computer.\n",
    "\n",
    "#Code:-\n",
    "\n",
    "import random\n",
    "\n",
    "import time\n",
    "\n",
    "print(\"Welcome To 'Z' Games\\n\\n\")\n",
    "\n",
    "d = {1 : \"Rock\", 2 : \"Paper\", 3 : \"Scissor\"}\n",
    "\n",
    "time.sleep(1)\n",
    "\n",
    "start_Button = input(\"Press 's' to start the Game rock, paper, scissor: \\n\")\n",
    "\n",
    "while(start_Button == 's'):\n",
    "    \n",
    "    print(\"\\nLet's Begin\\n\")\n",
    "    \n",
    "    time.sleep(1)\n",
    "    \n",
    "    print(\"\\n1. Rock\")\n",
    "    time.sleep(1)\n",
    "    \n",
    "    print(\"\\n2. Paper\")\n",
    "    time.sleep(1)\n",
    "    \n",
    "    print(\"\\n3. Scissor\")\n",
    "    \n",
    "    player1 = int(input(\"\\nEnter Number from range (1-3)\\n\\n\"))\n",
    "\n",
    "    player2 = random.randint(1,3)\n",
    "    \n",
    "    if(1 <= player1 <= 3):\n",
    "        \n",
    "        time.sleep(1)\n",
    "        print(f\"You Entered {d[player1]} \\n\")\n",
    "        \n",
    "        print(f\"2nd Player Entered {d[player2]} \\n\")\n",
    "        \n",
    "        if(player1 == 1 and player2 == 1):\n",
    "            print(\"\\nGame Draw\")\n",
    "        \n",
    "        elif(player1 == 2 and player2 == 2):\n",
    "            print(\"\\nGame Draw\")\n",
    "            \n",
    "        elif(player1 == 3 and player2 == 3):\n",
    "            print(\"\\nGame Draw\")\n",
    "        \n",
    "        elif(player1 == 1 and player2 == 2):\n",
    "            print('''\\nBetter Luck !! \n",
    "You lost the game''')\n",
    "            \n",
    "        elif(player1 == 1 and player2 == 3):\n",
    "            print('''\\nCongratulations !!\n",
    "You won the game''')\n",
    "        \n",
    "        elif(player1 == 2 and player2 == 1):\n",
    "            print('''\\nCongratulations !!\n",
    "You won the game''')\n",
    "        \n",
    "        elif(player1 == 2 and player2 == 3):\n",
    "            print('''\\nBetter Luck !!\n",
    "You lost the game''')\n",
    "        \n",
    "        elif(player1 == 3 and player2 == 1):\n",
    "            print('''\\nBetter Luck !!\n",
    "You lost the game''')\n",
    "        \n",
    "        elif(player1 == 3 and player2 == 2):\n",
    "            print('''\\nCongratulations !!\n",
    "You won the game''')\n",
    "        \n",
    "        start_Button = input(\"\\nEnter 's' to play again and press anything to quit : \")\n",
    "        \n",
    "    else:\n",
    "        print(\"Number should be in range:\")"
   ]
  },
  {
   "cell_type": "code",
   "execution_count": 12,
   "id": "2596b76a-296d-4605-9610-ff9fd8b93c17",
   "metadata": {},
   "outputs": [
    {
     "name": "stdin",
     "output_type": "stream",
     "text": [
      "Enter the length of a password you wanna generate:  10\n",
      "\n",
      "Enter Number of upper case letters you want in your password:  3\n",
      "\n",
      "Enter Number of lower case letters you want in your password:  3\n",
      "\n",
      "Enter the No of special characters you want in your password:  2\n",
      "\n",
      "Enter the Number of digits you want in your password:  2\n"
     ]
    },
    {
     "data": {
      "text/plain": [
       "'wrpHMN&)64'"
      ]
     },
     "execution_count": 12,
     "metadata": {},
     "output_type": "execute_result"
    }
   ],
   "source": [
    "# 23. Develop a program that generates a random password based on user preferences (length, complexity)\n",
    "\n",
    "#Code:-\n",
    "\n",
    "import sys\n",
    "\n",
    "import random\n",
    "\n",
    "length = int(input(\"Enter the length of a password you wanna generate: \"))\n",
    "\n",
    "\n",
    "upper_case = int(input(\"\\nEnter Number of upper case letters you want in your password: \"))\n",
    "\n",
    "if upper_case > length:\n",
    "    print(\"\\nUpper Case letters should be lees than the length\")\n",
    "    sys.exit()\n",
    "    \n",
    "\n",
    "lower_case = int(input(\"\\nEnter Number of lower case letters you want in your password: \"))\n",
    "if lower_case > length:\n",
    "    print(\"\\nLower case letters should be less than the length\")\n",
    "    sys.exit()\n",
    "\n",
    "    \n",
    "Special_Characters = int(input(\"\\nEnter the No of special characters you want in your password: \"))\n",
    "if Special_Characters > length:\n",
    "    print(\"\\nSpecial Characters should be less than the length:\")\n",
    "    sys.exit()\n",
    "    \n",
    "    \n",
    "No_of_digits = int(input(\"\\nEnter the Number of digits you want in your password: \"))\n",
    "if No_of_digits > length:\n",
    "    print(\"Digits Should be less than the length\")\n",
    "    sys.exit()\n",
    "    \n",
    "    \n",
    "sum1 = (upper_case + lower_case + Special_Characters + No_of_digits)\n",
    "\n",
    "if(sum1 > length):\n",
    "    print(\"\\nNo of 'upper case + lower case + specialCharacters + digits'  should be less than the length\")\n",
    "    sys.exit()\n",
    "    \n",
    "\n",
    "password = \"\"\n",
    "l = ['@','!','$','%','^','*','&','(',')']\n",
    "\n",
    "\n",
    "for i in range(0, upper_case):\n",
    "    password += chr(random.randint(97,123))\n",
    "    \n",
    "for i in range(0, lower_case):\n",
    "    password += chr(random.randint(65,90))\n",
    "    \n",
    "for i in range(0, Special_Characters):\n",
    "    rand = random.randint(0,8)\n",
    "    password += l[rand]\n",
    "\n",
    "for i in range(0, No_of_digits):\n",
    "     password += chr(random.randint(49,57))\n",
    "        \n",
    "password"
   ]
  },
  {
   "cell_type": "code",
   "execution_count": null,
   "id": "8ae293ed-2ce6-43f4-a5f0-4ca51dcbfb00",
   "metadata": {},
   "outputs": [
    {
     "name": "stdout",
     "output_type": "stream",
     "text": [
      "Welcome to the Text-Based Adventure Game!\n",
      "You find yourself in a mysterious forest. You can go left or right.\n"
     ]
    },
    {
     "name": "stdin",
     "output_type": "stream",
     "text": [
      "Do you want to go left or right? Enter 'left' or 'right':  r\n"
     ]
    },
    {
     "name": "stdout",
     "output_type": "stream",
     "text": [
      "Invalid choice. Try again.\n",
      "Welcome to the Text-Based Adventure Game!\n",
      "You find yourself in a mysterious forest. You can go left or right.\n"
     ]
    },
    {
     "name": "stdin",
     "output_type": "stream",
     "text": [
      "Do you want to go left or right? Enter 'left' or 'right':  right\n"
     ]
    },
    {
     "name": "stdout",
     "output_type": "stream",
     "text": [
      "You go right and come across a tranquil lake.\n",
      "Do you want to swim in the lake or explore deeper into the forest?\n"
     ]
    },
    {
     "name": "stdin",
     "output_type": "stream",
     "text": [
      "Enter 'swim' or 'explore':  swim\n"
     ]
    },
    {
     "name": "stdout",
     "output_type": "stream",
     "text": [
      "You enjoy a refreshing swim in the lake.\n",
      "You notice something shiny at the bottom of the lake but can't reach it.\n",
      "You return to the shore.\n",
      "You go right and come across a tranquil lake.\n",
      "Do you want to swim in the lake or explore deeper into the forest?\n"
     ]
    },
    {
     "name": "stdin",
     "output_type": "stream",
     "text": [
      "Enter 'swim' or 'explore':  explore\n"
     ]
    },
    {
     "name": "stdout",
     "output_type": "stream",
     "text": [
      "You venture deeper into the forest and encounter a wild animal.\n",
      "Startled, you retreat to the lake.\n",
      "You go right and come across a tranquil lake.\n",
      "Do you want to swim in the lake or explore deeper into the forest?\n"
     ]
    },
    {
     "name": "stdin",
     "output_type": "stream",
     "text": [
      "Enter 'swim' or 'explore':  explore\n"
     ]
    },
    {
     "name": "stdout",
     "output_type": "stream",
     "text": [
      "You venture deeper into the forest and encounter a wild animal.\n",
      "Startled, you retreat to the lake.\n",
      "You go right and come across a tranquil lake.\n",
      "Do you want to swim in the lake or explore deeper into the forest?\n"
     ]
    },
    {
     "name": "stdin",
     "output_type": "stream",
     "text": [
      "Enter 'swim' or 'explore':  explore\n"
     ]
    },
    {
     "name": "stdout",
     "output_type": "stream",
     "text": [
      "You venture deeper into the forest and encounter a wild animal.\n",
      "Startled, you retreat to the lake.\n",
      "You go right and come across a tranquil lake.\n",
      "Do you want to swim in the lake or explore deeper into the forest?\n"
     ]
    },
    {
     "name": "stdin",
     "output_type": "stream",
     "text": [
      "Enter 'swim' or 'explore':  swim\n"
     ]
    },
    {
     "name": "stdout",
     "output_type": "stream",
     "text": [
      "You enjoy a refreshing swim in the lake.\n",
      "You notice something shiny at the bottom of the lake but can't reach it.\n",
      "You return to the shore.\n",
      "You go right and come across a tranquil lake.\n",
      "Do you want to swim in the lake or explore deeper into the forest?\n"
     ]
    },
    {
     "name": "stdin",
     "output_type": "stream",
     "text": [
      "Enter 'swim' or 'explore':  swim\n"
     ]
    },
    {
     "name": "stdout",
     "output_type": "stream",
     "text": [
      "You enjoy a refreshing swim in the lake.\n",
      "You notice something shiny at the bottom of the lake but can't reach it.\n",
      "You return to the shore.\n",
      "You go right and come across a tranquil lake.\n",
      "Do you want to swim in the lake or explore deeper into the forest?\n"
     ]
    },
    {
     "name": "stdin",
     "output_type": "stream",
     "text": [
      "Enter 'swim' or 'explore':  hg\n"
     ]
    },
    {
     "name": "stdout",
     "output_type": "stream",
     "text": [
      "Invalid choice. Try again.\n",
      "You go right and come across a tranquil lake.\n",
      "Do you want to swim in the lake or explore deeper into the forest?\n"
     ]
    },
    {
     "name": "stdin",
     "output_type": "stream",
     "text": [
      "Enter 'swim' or 'explore':  explore\n"
     ]
    },
    {
     "name": "stdout",
     "output_type": "stream",
     "text": [
      "You venture deeper into the forest and encounter a wild animal.\n",
      "Startled, you retreat to the lake.\n",
      "You go right and come across a tranquil lake.\n",
      "Do you want to swim in the lake or explore deeper into the forest?\n"
     ]
    }
   ],
   "source": [
    "# 24. Create a program that implements a simple text-based adventure game with branching scenarios.\n",
    "\n",
    "#Code:-\n",
    "\n",
    "import time\n",
    "\n",
    "def delay_print(text, delay=0):\n",
    "    for char in text:\n",
    "        print(char, end='', flush=True)\n",
    "        time.sleep(delay)\n",
    "    print()\n",
    "\n",
    "def introduction():\n",
    "    delay_print(\"Welcome to the Text-Based Adventure Game!\")\n",
    "    delay_print(\"You find yourself in a mysterious forest. You can go left or right.\")\n",
    "\n",
    "def forest_left():\n",
    "    delay_print(\"You venture left and discover a hidden cave entrance.\")\n",
    "    delay_print(\"Do you want to enter the cave or go back to the forest?\")\n",
    "    choice = input(\"Enter 'cave' or 'back': \").strip().lower()\n",
    "\n",
    "    if choice == 'cave':\n",
    "        inside_cave()\n",
    "    elif choice == 'back':\n",
    "        forest_right()\n",
    "    else:\n",
    "        delay_print(\"Invalid choice. Try again.\")\n",
    "        forest_left()\n",
    "\n",
    "def forest_right():\n",
    "    delay_print(\"You go right and come across a tranquil lake.\")\n",
    "    delay_print(\"Do you want to swim in the lake or explore deeper into the forest?\")\n",
    "    choice = input(\"Enter 'swim' or 'explore': \").strip().lower()\n",
    "\n",
    "    if choice == 'swim':\n",
    "        delay_print(\"You enjoy a refreshing swim in the lake.\")\n",
    "        delay_print(\"You notice something shiny at the bottom of the lake but can't reach it.\")\n",
    "        delay_print(\"You return to the shore.\")\n",
    "        forest_right()\n",
    "    elif choice == 'explore':\n",
    "        delay_print(\"You venture deeper into the forest and encounter a wild animal.\")\n",
    "        delay_print(\"Startled, you retreat to the lake.\")\n",
    "        forest_right()\n",
    "    else:\n",
    "        delay_print(\"Invalid choice. Try again.\")\n",
    "        forest_right()\n",
    "\n",
    "def inside_cave():\n",
    "    delay_print(\"You enter the dark cave and find a chest with three locked compartments.\")\n",
    "    delay_print(\"Each compartment has a different symbol on it: a sun, a moon, and a star.\")\n",
    "    choice = input(\"Which compartment do you want to open? Enter 'sun', 'moon', or 'star': \").strip().lower()\n",
    "\n",
    "    if choice == 'sun':\n",
    "        delay_print(\"You open the compartment with the sun symbol and find a bag of gold coins.\")\n",
    "        delay_print(\"Congratulations! You're rich!\")\n",
    "        end_game()\n",
    "    elif choice == 'moon':\n",
    "        delay_print(\"You open the compartment with the moon symbol and find a map.\")\n",
    "        delay_print(\"The map leads to a hidden treasure deep in the forest.\")\n",
    "        delay_print(\"You decide to follow the map.\")\n",
    "        forest_right()\n",
    "    elif choice == 'star':\n",
    "        delay_print(\"You open the compartment with the star symbol and are engulfed in a blinding light.\")\n",
    "        delay_print(\"You wake up back at the entrance of the cave. You're unharmed but empty-handed.\")\n",
    "        delay_print(\"Confused, you leave the cave.\")\n",
    "        forest_left()\n",
    "    else:\n",
    "        delay_print(\"Invalid choice. Try again.\")\n",
    "        inside_cave()\n",
    "\n",
    "def end_game():\n",
    "    delay_print(\"Thanks for playing the Text-Based Adventure Game!\")\n",
    "    delay_print(\"Goodbye!\")\n",
    "\n",
    "def main():\n",
    "    introduction()\n",
    "    choice = input(\"Do you want to go left or right? Enter 'left' or 'right': \").strip().lower()\n",
    "\n",
    "    if choice == 'left':\n",
    "        forest_left()\n",
    "    elif choice == 'right':\n",
    "        forest_right()\n",
    "    else:\n",
    "        delay_print(\"Invalid choice. Try again.\")\n",
    "        main()\n",
    "\n",
    "if __name__ == \"__main__\":\n",
    "    main()"
   ]
  },
  {
   "cell_type": "code",
   "execution_count": 73,
   "id": "0f3d6f89-dc8c-4858-9d54-aeade68b446c",
   "metadata": {},
   "outputs": [
    {
     "name": "stdin",
     "output_type": "stream",
     "text": [
      "Enter linear equation to solve for 'x':  2x + 3 = 7\n"
     ]
    },
    {
     "name": "stdout",
     "output_type": "stream",
     "text": [
      " x = 2\n"
     ]
    }
   ],
   "source": [
    "# 25. Build a program that solves a linear equation  for x, considering different cases\n",
    "\n",
    "#Code:-\n",
    "\n",
    "s = input(\"Enter linear equation to solve for 'x': \")\n",
    "\n",
    "l = [i for i in s if chr(49) <= i <= chr(57)]\n",
    "\n",
    "l = list(map(int,l))\n",
    "\n",
    "a = l[0]\n",
    "\n",
    "b = l[1]\n",
    "\n",
    "c = l[2]\n",
    "\n",
    "x = 0\n",
    "\n",
    "if '+' in s:\n",
    "    x = (c - b)//a\n",
    "\n",
    "elif '-' in s:\n",
    "    x = (c + b)//a\n",
    "\n",
    "else:\n",
    "    print(\"Invalid linear Equation\")\n",
    "\n",
    "print(\" x =\", x)"
   ]
  },
  {
   "cell_type": "code",
   "execution_count": 3,
   "id": "dfd37205-af18-4177-911d-8236de7725fe",
   "metadata": {},
   "outputs": [
    {
     "name": "stdout",
     "output_type": "stream",
     "text": [
      "Welcome to 'Z' Quiz Game\n",
      "\n",
      "Question 1: What is the capital of France?\n",
      "\n",
      "A) London\n",
      "B) Berlin\n",
      "C) Paris\n",
      "D) Madrid\n"
     ]
    },
    {
     "name": "stdin",
     "output_type": "stream",
     "text": [
      "\n",
      "Enter your choice  c\n"
     ]
    },
    {
     "name": "stdout",
     "output_type": "stream",
     "text": [
      "\n",
      "Question 2: Who wrote the play \"Romeo and Juliet ?\n",
      "\n",
      "A) Charles Dickens\n",
      "B) William Shakespeare\n",
      "C) Jane Austen\n",
      "D) Mark Twain\n",
      "\n"
     ]
    },
    {
     "name": "stdin",
     "output_type": "stream",
     "text": [
      "\n",
      "Enter your choice  b\n"
     ]
    },
    {
     "name": "stdout",
     "output_type": "stream",
     "text": [
      "\n",
      "Question 3: What is the chemical symbol for gold?\n",
      "\n",
      "A) Go\n",
      "B) Ag\n",
      "C) Ge\n",
      "D) Au\n",
      "\n"
     ]
    },
    {
     "name": "stdin",
     "output_type": "stream",
     "text": [
      "\n",
      "Enter your choice  d\n"
     ]
    },
    {
     "name": "stdout",
     "output_type": "stream",
     "text": [
      "\n",
      "Question 4: Which planet is known as the \"Red Planet\"?\n",
      "\n",
      "A) Venus\n",
      "B) Mars\n",
      "C) Jupiter\n",
      "D) Saturn\n",
      "\n"
     ]
    },
    {
     "name": "stdin",
     "output_type": "stream",
     "text": [
      "\n",
      "Enter your choice  b\n"
     ]
    },
    {
     "name": "stdout",
     "output_type": "stream",
     "text": [
      "\n",
      "Question 5: What is the largest mammal in the world?\n",
      "\n",
      "A) Elephant\n",
      "B) Giraffe\n",
      "C) Blue Whale\n",
      "D) Lion \n"
     ]
    },
    {
     "name": "stdin",
     "output_type": "stream",
     "text": [
      "\n",
      "Enter your choice  c\n"
     ]
    },
    {
     "name": "stdout",
     "output_type": "stream",
     "text": [
      "\n",
      "Congratulations you have passed the Quiz !!\n",
      "\n",
      "Your total Quiz Score is 5\n"
     ]
    }
   ],
   "source": [
    "# 26. Write a program that simulates a basic quiz game with multiple-choice questions and scoring.\n",
    "\n",
    "#Code:-\n",
    "\n",
    "print(\"Welcome to 'Z' Quiz Game\")\n",
    "\n",
    "Quiz_Score = 0\n",
    "    \n",
    "print('''\\nQuestion 1: What is the capital of France?\n",
    "\n",
    "A) London\n",
    "B) Berlin\n",
    "C) Paris\n",
    "D) Madrid''')\n",
    "\n",
    "user_choice = input(\"\\nEnter your choice \").upper()\n",
    "\n",
    "if(user_choice == 'C'):\n",
    "    Quiz_Score += 1\n",
    "    \n",
    "\n",
    "print('''\\nQuestion 2: Who wrote the play \"Romeo and Juliet ?\n",
    "\n",
    "A) Charles Dickens\n",
    "B) William Shakespeare\n",
    "C) Jane Austen\n",
    "D) Mark Twain\n",
    "''')\n",
    "\n",
    "user_choice = input(\"\\nEnter your choice \").upper()\n",
    "\n",
    "if(user_choice == 'B'):\n",
    "    Quiz_Score += 1\n",
    "    \n",
    "print('''\\nQuestion 3: What is the chemical symbol for gold?\n",
    "\n",
    "A) Go\n",
    "B) Ag\n",
    "C) Ge\n",
    "D) Au\n",
    "''')\n",
    "\n",
    "user_choice = input(\"\\nEnter your choice \").upper()\n",
    "\n",
    "if(user_choice == 'D'):\n",
    "    Quiz_Score += 1\n",
    "    \n",
    "\n",
    "print('''\\nQuestion 4: Which planet is known as the \"Red Planet\"?\n",
    "\n",
    "A) Venus\n",
    "B) Mars\n",
    "C) Jupiter\n",
    "D) Saturn\n",
    "''')\n",
    "\n",
    "user_choice = input(\"\\nEnter your choice \").upper()\n",
    "\n",
    "if(user_choice == 'B'):\n",
    "    Quiz_Score += 1\n",
    "    \n",
    "print('''\\nQuestion 5: What is the largest mammal in the world?\n",
    "\n",
    "A) Elephant\n",
    "B) Giraffe\n",
    "C) Blue Whale\n",
    "D) Lion ''')\n",
    "    \n",
    "user_choice = input(\"\\nEnter your choice \").upper()\n",
    "\n",
    "if(user_choice == 'C'):\n",
    "    Quiz_Score += 1\n",
    "\n",
    "    \n",
    "\n",
    "    \n",
    "    \n",
    "    if(Quiz_Score < 3):\n",
    "        \n",
    "        print(f'''\\nBetter Luck !! Quiz Not Passed\n",
    "\\nYour total Quiz Score is {Quiz_Score}''')\n",
    "    \n",
    "    else:\n",
    "        print(f'''\\nCongratulations you have passed the Quiz !!\n",
    "\\nYour total Quiz Score is {Quiz_Score}''')"
   ]
  },
  {
   "cell_type": "code",
   "execution_count": 7,
   "id": "4e6e8172-4cd8-4b11-a586-47ff3d396a3e",
   "metadata": {},
   "outputs": [
    {
     "name": "stdin",
     "output_type": "stream",
     "text": [
      "Enter the year to check whether it's prime or not 2017\n"
     ]
    },
    {
     "name": "stdout",
     "output_type": "stream",
     "text": [
      "Year is a Prime Year: \n"
     ]
    }
   ],
   "source": [
    "# 27. Develop a program that determines whether a given year is a prime number or not\n",
    "\n",
    "#Code:-\n",
    "\n",
    "year = int(input(\"Enter the year to check whether it's prime or not\"))\n",
    "\n",
    "prime_check = True\n",
    "\n",
    "if(year == 2):\n",
    "    print(\"Year is prime Year\")\n",
    "    \n",
    "\n",
    "for i in range(2, int((year ** 0.5) + 1)):\n",
    "    \n",
    "    if(year % i == 0):\n",
    "        prime_check = False\n",
    "    \n",
    "\n",
    "if(prime_check == True):\n",
    "    print(\"Year is a Prime Year: \")\n",
    "    \n",
    "else:\n",
    "    print(\"Year is not a Prime Year: \")"
   ]
  },
  {
   "cell_type": "code",
   "execution_count": 12,
   "id": "a03ba4d8-9c9a-43d6-998a-7ab9fec03c24",
   "metadata": {},
   "outputs": [
    {
     "data": {
      "text/plain": [
       "[22, 111, 1000]"
      ]
     },
     "execution_count": 12,
     "metadata": {},
     "output_type": "execute_result"
    }
   ],
   "source": [
    "# 28.Create a program that sorts three numbers in ascending order using conditional statements.\n",
    "\n",
    "# Code:-\n",
    "\n",
    "l = [1000,22,111]\n",
    "\n",
    "if(l[0] > l[1]):\n",
    "    l[0],l[1] = l[1],l[0]\n",
    "    \n",
    "    if(l[0] > l[2]):\n",
    "        l[0],l[2] = l[0],l[2]\n",
    "\n",
    "if(l[0] > l[2]):\n",
    "    l[0],l[2] = l[2],l[0]\n",
    "    \n",
    "    if(l[1] > l[2]):\n",
    "        l[1],l[2] = l[2],l[1]\n",
    "    \n",
    "    \n",
    "if(l[1] > l[2]):\n",
    "    l[1],l[2] = l[2],l[1]\n",
    "    \n",
    "\n",
    "l"
   ]
  },
  {
   "cell_type": "code",
   "execution_count": 13,
   "id": "bed82597-e8b4-4d11-a47c-7ce10cc1f165",
   "metadata": {},
   "outputs": [],
   "source": [
    "# 29. Build a program that determines the roots of a quartic equation using numerical methods.\n",
    "\n",
    "#Code:-\n",
    "\n",
    "# Input coefficients\n",
    "a = 1\n",
    "b = -6\n",
    "c = 11\n",
    "d = -6\n",
    "e = 1\n",
    "\n",
    "# Define constants\n",
    "max_iterations = 1000\n",
    "tolerance = 1e-6\n",
    "\n",
    "# Initial guesses (you can modify these)\n",
    "x0 = -10.0\n",
    "x1 = -5.0\n",
    "x2 = 5.0\n",
    "x3 = 10.0\n",
    "\n",
    "# Iteration counter\n",
    "iteration = 0\n",
    "\n",
    "# Approximate roots using fixed-point iteration\n",
    "while iteration < max_iterations:\n",
    "    # Calculate the new approximations\n",
    "    x0_new = (e - (a * x0**4 + b * x0**3 + c * x0**2 + d * x0))**(1/4)\n",
    "    x1_new = (e - (a * x1**4 + b * x1**3 + c * x1**2 + d * x1))**(1/4)\n",
    "    x2_new = (e - (a * x2**4 + b * x2**3 + c * x2**2 + d * x2))**(1/4)\n",
    "    x3_new = (e - (a * x3**4 + b * x3**3 + c * x3**2 + d * x3))**(1/4)\n",
    "\n",
    "    # Check convergence\n",
    "    if abs(x0_new - x0) < tolerance and \\\n",
    "       abs(x1_new - x1) < tolerance and \\\n",
    "       abs(x2_new - x2) < tolerance and \\\n",
    "       abs(x3_new - x3) < tolerance:\n",
    "        break\n",
    "\n",
    "    # Update approximations\n",
    "    x0 = x0_new\n",
    "    x1 = x1_new\n",
    "    x2 = x2_new\n",
    "    x3 = x3_new\n",
    "\n",
    "    iteration += 1\n",
    "\n",
    "# Display the roots\n",
    "print(\"Approximate roots of the quartic equation:\")\n",
    "print(\"Root 1:\", x0)\n",
    "print(\"Root 2:\", x1)\n",
    "print(\"Root 3:\", x2)\n",
    "print(\"Root 4:\", x3)"
   ]
  },
  {
   "cell_type": "code",
   "execution_count": 19,
   "id": "fe9dead1-b2a2-4fe0-aedb-4acf12bbefdf",
   "metadata": {},
   "outputs": [
    {
     "name": "stdin",
     "output_type": "stream",
     "text": [
      "Enter your weight in kg:  55\n",
      "Enter your height in cm:  172\n"
     ]
    },
    {
     "name": "stdout",
     "output_type": "stream",
     "text": [
      "\n",
      "You have Normal_Weight \n",
      "\n",
      "If a person falls within the \"Normal weight\" BMI category (18.5 to 24.9),\n",
      "it suggests that their weight is generally considered healthy for their height.\n",
      "However, other health factors should also be considered, such as diet, physical activity,\n",
      "and overall well-being. A recommendation may include maintaining a balanced diet, staying physically active,\n",
      "and regular health check-ups to ensure overall health.\n"
     ]
    }
   ],
   "source": [
    "# 30. Write a program that calculates the BMI (Body Mass Index) and provides health recommendations based on the user's input.\n",
    "\n",
    "#Code:-\n",
    "\n",
    "weight = float(input(\"Enter your weight in kg: \"))\n",
    "\n",
    "height = float(input(\"Enter your height in cm: \"))\n",
    "\n",
    "height = height / 100\n",
    "\n",
    "BMI = weight / height**2\n",
    "\n",
    "weight_check = \"\"\n",
    "\n",
    "\n",
    "if(BMI < 18.5):\n",
    "    weight_check = \"Under_Weight\"\n",
    "\n",
    "elif(18.5 <= BMI <= 24.9):\n",
    "    weight_check = \"Normal_Weight\"\n",
    "    \n",
    "elif(25 <= BMI <= 29.9):\n",
    "    weight_check = \"Over_Weight\"\n",
    "\n",
    "elif(30 <= BMI <= 34.9):\n",
    "    weight_check = \"Obesity (class 1)\"\n",
    "\n",
    "elif(35 <= BMI <= 39.9):\n",
    "    weight_check = \"Obesity (class 2)\"\n",
    "\n",
    "else:\n",
    "    weight_check = \"Severe Obesity (class 3)\"\n",
    "\n",
    "    \n",
    "\n",
    "if(weight_check == \"Normal_Weight\"):\n",
    "    print(f'''\\nYou have {weight_check} \n",
    "\\nIf a person falls within the \"Normal weight\" BMI category (18.5 to 24.9),\n",
    "it suggests that their weight is generally considered healthy for their height.\n",
    "However, other health factors should also be considered, such as diet, physical activity,\n",
    "and overall well-being. A recommendation may include maintaining a balanced diet, staying physically active,\n",
    "and regular health check-ups to ensure overall health.''')\n",
    "\n",
    "    \n",
    "elif(weight_check == \"Under_Weight\"):\n",
    "    print(f'''\\nYou are {weight_check} \n",
    "\\nIndividuals who are underweight may be at risk of nutritional deficiencies.\n",
    "A recommendation could include consulting with a healthcare provider or dietitian to develop a healthy eating plan to gain weight in a safe and balanced way.\n",
    "''')\n",
    "\n",
    "    \n",
    "elif(weight_check == \"Over_Weight\"):\n",
    "    print(f'''\\nYou are {weight_check}\n",
    "\\nIndividuals in these categories may be at risk for various health issues, including heart disease, diabetes, and more.\n",
    "Recommendations often include making lifestyle changes such as adopting a healthier diet, increasing physical activity, and seeking guidance from a healthcare provider or nutritionist for personalized advice.\n",
    "''')\n",
    "\n",
    "\n",
    "    \n",
    "elif(weight_check == \"Obesity (class 1)\"):\n",
    "    print(f'''\\nYou are {weight_check}\n",
    "\\nIndividuals in these categories may be at risk for various health issues, including heart disease, diabetes, and more.\n",
    "Recommendations often include making lifestyle changes such as adopting a healthier diet, increasing physical activity, and seeking guidance from a healthcare provider or nutritionist for personalized advice.\n",
    "''')\n",
    "    \n",
    "    \n",
    "elif(weight_check == \"Obesity (class 2)\"):\n",
    "    print(f'''\\nYou are {weight_check}\n",
    "\\nIndividuals in these categories may be at risk for various health issues, including heart disease, diabetes, and more.\n",
    "Recommendations often include making lifestyle changes such as adopting a healthier diet, increasing physical activity, and seeking guidance from a healthcare provider or nutritionist for personalized advice.\n",
    "''')\n",
    "    \n",
    "    \n",
    "elif(weight_check == \"Severe Obesity (class 3)\"):\n",
    "     print(f'''\\nYou are {weight_check}\n",
    "\\nIndividuals in these categories may be at risk for various health issues, including heart disease, diabetes, and more.\n",
    "Recommendations often include making lifestyle changes such as adopting a healthier diet, increasing physical activity, and seeking guidance from a healthcare provider or nutritionist for personalized advice.\n",
    "''')\n",
    "    "
   ]
  },
  {
   "cell_type": "code",
   "execution_count": 20,
   "id": "0435e622-d3e2-4aed-985a-c07fb756d60f",
   "metadata": {},
   "outputs": [],
   "source": [
    "#***************************************************************************************************#\n",
    "#********************************** CHALLENGE LEVEL PROBLEMS ***************************************#\n",
    "#***************************************************************************************************#"
   ]
  },
  {
   "cell_type": "code",
   "execution_count": 12,
   "id": "9253c903-1e8b-433b-8a47-bf145929e14d",
   "metadata": {},
   "outputs": [
    {
     "name": "stdin",
     "output_type": "stream",
     "text": [
      "Enter Password:  abbasAli89!\n"
     ]
    },
    {
     "name": "stdout",
     "output_type": "stream",
     "text": [
      "\n",
      "Valid Password\n"
     ]
    }
   ],
   "source": [
    "# 31. Create a program that validates a password based on complexity rules (length, characters, etc.).\n",
    "\n",
    "#Code:-\n",
    "\n",
    "special_characters = ['@','!','#','$','%','^','&','*']\n",
    "\n",
    "\n",
    "password = input(\"Enter Password: \")\n",
    "\n",
    "special_check = False\n",
    "\n",
    "digit_check = False\n",
    "\n",
    "lower_check = False\n",
    "\n",
    "upper_check = False\n",
    "\n",
    "length = len(password)\n",
    "\n",
    "if(8 <= length <= 15):\n",
    "    \n",
    "    for i in special_characters:\n",
    "        \n",
    "        if i in password:\n",
    "            special_check = True\n",
    "            break;\n",
    "    \n",
    "    for i in range(48,57):\n",
    "        \n",
    "        if chr(i) in password:\n",
    "            digit_check = True\n",
    "            break;\n",
    "    \n",
    "    for i in range(97, 123):\n",
    "        \n",
    "        if chr(i) in password:\n",
    "            lower_check = True\n",
    "            break;\n",
    "    \n",
    "    for i in range(65,91):\n",
    "        \n",
    "        if chr(i) in password:\n",
    "            upper_check = True\n",
    "            break;\n",
    "    \n",
    "else:\n",
    "    print('''Invalid Password !! \n",
    "\\nLength of password should be greater than or equal to 8''')\n",
    "\n",
    "    \n",
    "if special_check and digit_check and upper_check and lower_check:\n",
    "    print(\"\\nValid Password\")\n",
    "    \n",
    "else:\n",
    "    print(\"\\nInvalid Password\")"
   ]
  },
  {
   "cell_type": "code",
   "execution_count": 1,
   "id": "3c337a09-4672-4615-afd1-06fa8107e4bb",
   "metadata": {},
   "outputs": [
    {
     "name": "stdin",
     "output_type": "stream",
     "text": [
      "Enter No of rows of matrix:  2\n",
      "Enter No of cols of matrix:  2\n"
     ]
    },
    {
     "name": "stdout",
     "output_type": "stream",
     "text": [
      "\n",
      "Enter values of Matrix_A\n",
      "\n"
     ]
    },
    {
     "name": "stdin",
     "output_type": "stream",
     "text": [
      "Enter value in Matrix_A[0][0] =  1\n",
      "Enter value in Matrix_A[0][1] =  2\n",
      "Enter value in Matrix_A[1][0] =  3\n",
      "Enter value in Matrix_A[1][1] =  4\n"
     ]
    },
    {
     "name": "stdout",
     "output_type": "stream",
     "text": [
      "\n",
      "Enter values of Matrix_B\n",
      "\n"
     ]
    },
    {
     "name": "stdin",
     "output_type": "stream",
     "text": [
      "Enter value in Matrix_B[0][0] =  5\n",
      "Enter value in Matrix_B[0][1] =  6\n",
      "Enter value in Matrix_B[1][0] =  7\n",
      "Enter value in Matrix_B[1][1] =  8\n",
      "\n",
      "Enter Operation you want to perform on the Matrices\n",
      "Press '+' for addition and '-' for subtraction:  +\n"
     ]
    },
    {
     "name": "stdout",
     "output_type": "stream",
     "text": [
      "\n",
      "The Result of Matrix_A + Matrix_B : \n",
      " [[6, 8], [10, 12]]\n"
     ]
    }
   ],
   "source": [
    "## 32. Develop a program that performs matrix addition and subtraction based on user input.\n",
    "\n",
    "#Code:-\n",
    "\n",
    "import sys\n",
    "\n",
    "Matrix_A = []\n",
    "\n",
    "Matrix_B = []\n",
    "\n",
    "rows = int(input(\"Enter No of rows of matrix: \"))\n",
    "cols = int(input(\"Enter No of cols of matrix: \"))\n",
    "\n",
    "print(\"\\nEnter values of Matrix_A\\n\")\n",
    "\n",
    "for i in range(0, rows):\n",
    "    temp = []\n",
    "    \n",
    "    for j in range(0, cols):\n",
    "        val = int(input(f\"Enter value in Matrix_A[{i}][{j}] = \"))\n",
    "        temp.append(val)\n",
    "        \n",
    "    Matrix_A.append(temp)\n",
    "\n",
    "print(\"\\nEnter values of Matrix_B\\n\")\n",
    "\n",
    "for i in range(0, rows):\n",
    "    temp = []\n",
    "    \n",
    "    for j in range(0, cols):\n",
    "        val = int(input(f\"Enter value in Matrix_B[{i}][{j}] = \"))\n",
    "        temp.append(val)\n",
    "    \n",
    "    Matrix_B.append(temp)\n",
    "\n",
    "\n",
    "operation = input('''\\nEnter Operation you want to perform on the Matrices\n",
    "Press '+' for addition and '-' for subtraction: ''')\n",
    "\n",
    "    \n",
    "Matrix_C = []\n",
    "\n",
    "for i in range(0,rows):\n",
    "    \n",
    "    temp = []\n",
    "    \n",
    "    for j in range(0,cols):\n",
    "        a = Matrix_A[i][j]\n",
    "        b = Matrix_B[i][j]\n",
    "        \n",
    "        if(operation == '+'):\n",
    "            temp.append(a+b)\n",
    "        elif(operation == '-'):\n",
    "            temp.append(a-b)\n",
    "        else:\n",
    "            print(\"Invalid Operator\")\n",
    "            sys.exit()\n",
    "        \n",
    "    Matrix_C.append(temp)\n",
    "\n",
    "\n",
    "print(f\"\\nThe Result of Matrix_A {operation} Matrix_B : \\n\", Matrix_C)"
   ]
  },
  {
   "cell_type": "code",
   "execution_count": 3,
   "id": "b3db862d-7540-4b8a-a884-95ba1a5b1f3b",
   "metadata": {},
   "outputs": [
    {
     "name": "stdin",
     "output_type": "stream",
     "text": [
      "Enter first Value:  -10\n",
      "Enter second Value:  2\n"
     ]
    },
    {
     "data": {
      "text/plain": [
       "2"
      ]
     },
     "execution_count": 3,
     "metadata": {},
     "output_type": "execute_result"
    }
   ],
   "source": [
    "# 33. Write a program that calculates the greatest common divisor (GCD) of two numbers using the Euclidean algorithm.\n",
    "\n",
    "#Code:-\n",
    "\n",
    "a = int(input(\"Enter first Value: \"))\n",
    "\n",
    "b = int(input(\"Enter second Value: \"))\n",
    "\n",
    "if a > b:\n",
    "    a,b = b,a\n",
    "\n",
    "#Eucledian_GCD\n",
    "\n",
    "while b != 0:\n",
    "    a, b = b, a%b\n",
    "\n",
    "a"
   ]
  },
  {
   "cell_type": "code",
   "execution_count": 6,
   "id": "c881e448-c2e4-413a-98e5-320756060f4d",
   "metadata": {},
   "outputs": [
    {
     "name": "stdin",
     "output_type": "stream",
     "text": [
      "Enter Number of rows for Matrix_A:  2\n",
      "Enter Number of cols for Matrix_A:  2\n",
      "\n",
      "Enter Number of cols for Matrix_B:  2\n"
     ]
    },
    {
     "name": "stdout",
     "output_type": "stream",
     "text": [
      "\n",
      "Enter values in Matrix_A\n",
      "\n"
     ]
    },
    {
     "name": "stdin",
     "output_type": "stream",
     "text": [
      "Enter val in Matrix_A[0][0] =  1\n",
      "Enter val in Matrix_A[0][1] =  2\n",
      "Enter val in Matrix_A[1][0] =  3\n",
      "Enter val in Matrix_A[1][1] =  4\n"
     ]
    },
    {
     "name": "stdout",
     "output_type": "stream",
     "text": [
      "\n",
      "Enter Values in Matrix_B\n",
      "\n"
     ]
    },
    {
     "name": "stdin",
     "output_type": "stream",
     "text": [
      "Enter val in Matrix_B[0][0] =  5\n",
      "Enter val in Matrix_B[0][1] =  6\n",
      "Enter val in Matrix_B[1][0] =  7\n",
      "Enter val in Matrix_B[1][1] =  8\n"
     ]
    },
    {
     "name": "stdout",
     "output_type": "stream",
     "text": [
      "\n",
      "Result after Multiplying Matrix_A * Matrix_B =  [[19, 22], [43, 50]]\n"
     ]
    }
   ],
   "source": [
    "## 34. Build a program that performs matrix multiplication using nested loops and conditional statements.\n",
    "\n",
    "#Code:-\n",
    "\n",
    "row1 = int(input(\"Enter Number of rows for Matrix_A: \" ))\n",
    "\n",
    "col1 = int(input(\"Enter Number of cols for Matrix_A: \"))\n",
    "\n",
    "row2 = col1\n",
    "\n",
    "col2 = int(input(\"\\nEnter Number of cols for Matrix_B: \"))\n",
    "\n",
    "Matrix_A = []\n",
    "\n",
    "print(\"\\nEnter values in Matrix_A\\n\")\n",
    "\n",
    "for i in range(0, row1):\n",
    "    temp = []\n",
    "    for j in range(0, col1):\n",
    "        val = int(input(f\"Enter val in Matrix_A[{i}][{j}] = \"))\n",
    "        temp.append(val)\n",
    "    Matrix_A.append(temp)\n",
    "\n",
    "print(\"\\nEnter Values in Matrix_B\\n\")\n",
    "    \n",
    "Matrix_B = []\n",
    "    \n",
    "    \n",
    "for i in range(0, row2):\n",
    "    temp = []\n",
    "    for j in range(0, col2):\n",
    "        val = int(input(f\"Enter val in Matrix_B[{i}][{j}] = \"))\n",
    "        temp.append(val)\n",
    "    Matrix_B.append(temp)\n",
    "\n",
    "Matrix_C = []\n",
    "\n",
    "for i in range(0, row1):\n",
    "    temp = []\n",
    "    for j in range(0, col2):\n",
    "        val = 0\n",
    "        for k in range(0, col1):\n",
    "            val += Matrix_A[i][k] * Matrix_B[k][j]\n",
    "        temp.append(val)\n",
    "    Matrix_C.append(temp)\n",
    "    \n",
    "print(\"\\nResult after Multiplying Matrix_A * Matrix_B = \", Matrix_C)"
   ]
  },
  {
   "cell_type": "code",
   "execution_count": 6,
   "id": "fa204152-d84e-4540-9512-6a1ed10602bb",
   "metadata": {},
   "outputs": [
    {
     "name": "stdout",
     "output_type": "stream",
     "text": [
      "************************************** TIC_TAC_TOE GAME ***********************************\n",
      "\n",
      "\n",
      "\n",
      "\n",
      "************************************** GAME _ BOARD ***************************************\n",
      "\n",
      "\n",
      "**************************************   1   2   3   ************************************** \n",
      "**************************************   4   5   6   ************************************** \n",
      "**************************************   7   8   9   ************************************** \n",
      "\n",
      "\n",
      "*******************************************************************************************\n",
      "\n",
      "\n",
      "\n",
      "press 1 for 1st Turn \n",
      " \n",
      "press 2 for 2nd Turn \n",
      "\n"
     ]
    },
    {
     "name": "stdin",
     "output_type": "stream",
     "text": [
      "Enter your choice:  1\n"
     ]
    },
    {
     "name": "stdout",
     "output_type": "stream",
     "text": [
      "\n",
      "Your Turn \n"
     ]
    },
    {
     "name": "stdin",
     "output_type": "stream",
     "text": [
      "\n",
      "Enter Where you want to Mark 1\n"
     ]
    },
    {
     "name": "stdout",
     "output_type": "stream",
     "text": [
      "\n",
      "\n",
      "************************************** GAME _ BOARD ***************************************\n",
      "\n",
      "\n",
      "**************************************   1   2   3   ************************************** \n",
      "**************************************   4   5   6   ************************************** \n",
      "**************************************   7   8   9   ************************************** \n",
      "\n",
      "\n",
      "*******************************************************************************************\n",
      "\n",
      "\n",
      "\n",
      "Computer's Turn \n",
      "\n",
      "\n",
      "************************************** GAME _ BOARD ***************************************\n",
      "\n",
      "\n",
      "**************************************   1   2   3   ************************************** \n",
      "**************************************   0   5   6   ************************************** \n",
      "**************************************   7   8   9   ************************************** \n",
      "\n",
      "\n",
      "*******************************************************************************************\n",
      "\n",
      "\n",
      "\n",
      "Your Turn \n"
     ]
    },
    {
     "name": "stdin",
     "output_type": "stream",
     "text": [
      "\n",
      "Enter Where you want to Mark 2\n"
     ]
    },
    {
     "name": "stdout",
     "output_type": "stream",
     "text": [
      "\n",
      "\n",
      "************************************** GAME _ BOARD ***************************************\n",
      "\n",
      "\n",
      "**************************************   1   1   3   ************************************** \n",
      "**************************************   0   5   6   ************************************** \n",
      "**************************************   7   8   9   ************************************** \n",
      "\n",
      "\n",
      "*******************************************************************************************\n",
      "\n",
      "\n",
      "\n",
      "Computer's Turn \n",
      "\n",
      "\n",
      "************************************** GAME _ BOARD ***************************************\n",
      "\n",
      "\n",
      "**************************************   1   1   3   ************************************** \n",
      "**************************************   0   5   6   ************************************** \n",
      "**************************************   0   8   9   ************************************** \n",
      "\n",
      "\n",
      "*******************************************************************************************\n",
      "\n",
      "\n",
      "\n",
      "Your Turn \n"
     ]
    },
    {
     "name": "stdin",
     "output_type": "stream",
     "text": [
      "\n",
      "Enter Where you want to Mark 5\n"
     ]
    },
    {
     "name": "stdout",
     "output_type": "stream",
     "text": [
      "\n",
      "\n",
      "************************************** GAME _ BOARD ***************************************\n",
      "\n",
      "\n",
      "**************************************   1   1   3   ************************************** \n",
      "**************************************   0   1   6   ************************************** \n",
      "**************************************   0   8   9   ************************************** \n",
      "\n",
      "\n",
      "*******************************************************************************************\n",
      "\n",
      "\n",
      "\n",
      "Computer's Turn \n",
      "\n",
      "\n",
      "************************************** GAME _ BOARD ***************************************\n",
      "\n",
      "\n",
      "**************************************   1   1   3   ************************************** \n",
      "**************************************   0   1   6   ************************************** \n",
      "**************************************   0   8   0   ************************************** \n",
      "\n",
      "\n",
      "*******************************************************************************************\n",
      "\n",
      "\n",
      "\n",
      "Your Turn \n"
     ]
    },
    {
     "name": "stdin",
     "output_type": "stream",
     "text": [
      "\n",
      "Enter Where you want to Mark 8\n"
     ]
    },
    {
     "name": "stdout",
     "output_type": "stream",
     "text": [
      "\n",
      "\n",
      "************************************** GAME _ BOARD ***************************************\n",
      "\n",
      "\n",
      "**************************************   1   1   3   ************************************** \n",
      "**************************************   0   1   6   ************************************** \n",
      "**************************************   0   1   0   ************************************** \n",
      "\n",
      "\n",
      "*******************************************************************************************\n",
      "\n",
      "\n",
      "You Win\n"
     ]
    },
    {
     "ename": "SystemExit",
     "evalue": "",
     "output_type": "error",
     "traceback": [
      "An exception has occurred, use %tb to see the full traceback.\n",
      "\u001b[0;31mSystemExit\u001b[0m\n"
     ]
    }
   ],
   "source": [
    "# 35. Create a program that simulates a basic text-based tic-tac-toe game against the computer.\n",
    "\n",
    "#Code:-\n",
    "\n",
    "import time\n",
    "import random\n",
    "import sys\n",
    "\n",
    "Game_Board = [[1,2,3], [4,5,6], [7,8,9]]\n",
    "Map = [0,False,False,False,False,False,False,False,False,False]\n",
    "\n",
    "\n",
    "print('''************************************** TIC_TAC_TOE GAME ***********************************\\n\\n''')\n",
    "\n",
    "\n",
    "print('''\\n\\n************************************** GAME _ BOARD ***************************************\\n\\n''')\n",
    "\n",
    "\n",
    "for i in range(0,3):\n",
    "    print(f\"**************************************\", end = '   ')\n",
    "    for j in range(0,3):\n",
    "        print(Game_Board[i][j], end = '   ')\n",
    "    print(f\"**************************************\", end = ' ') \n",
    "    print()\n",
    "\n",
    "    \n",
    "\n",
    "print('''\\n\\n*******************************************************************************************\\n\\n''')\n",
    "\n",
    "\n",
    "\n",
    "print('''\n",
    "press 1 for 1st Turn \\n \n",
    "press 2 for 2nd Turn \\n''')\n",
    "\n",
    "choice = int(input(\"Enter your choice: \"))\n",
    "\n",
    "while(1 != choice != 2):\n",
    "    print(\"\\nChoice should be 1 or 2: \")\n",
    "    choice = int(input(\"Enter your choice: \"))\n",
    "\n",
    "User_Mark = 1\n",
    "Computer_Mark = 0\n",
    "\n",
    "\n",
    "\n",
    "Computer_Choice = 0\n",
    "User_Choice = 0\n",
    "Counter = 0\n",
    "\n",
    "Player1_Win_Check = False\n",
    "Player2_Win_Check = False\n",
    "\n",
    "while(Counter < 9):\n",
    "    \n",
    "    if(choice == 2):\n",
    "            \n",
    "        print(\"\\nComputer's Turn \")\n",
    "        time.sleep(2)\n",
    "        \n",
    "        Computer_Choice = random.randint(1,9)\n",
    "        \n",
    "        while(Map[Computer_Choice] == True):\n",
    "             Computer_Choice = random.randint(1,9)\n",
    "        \n",
    "        if(Map[Computer_Choice] == False):\n",
    "            Map[Computer_Choice] = True\n",
    "       \n",
    "            \n",
    "        check = False\n",
    "    \n",
    "        for i in range(0,3):\n",
    "            \n",
    "            for j in range(0,3):\n",
    "                if(Game_Board[i][j] == Computer_Choice):\n",
    "                    check = True\n",
    "                    Game_Board[i][j] =  0\n",
    "                    Counter += 1\n",
    "                    break\n",
    "                \n",
    "            if(check == True):\n",
    "                break\n",
    "                \n",
    "        print('''\\n\\n************************************** GAME _ BOARD ***************************************\\n\\n''')\n",
    "\n",
    "\n",
    "        for i in range(0,3):\n",
    "            print(f\"**************************************\", end = '   ')\n",
    "            for j in range(0,3):\n",
    "                print(Game_Board[i][j], end = '   ')\n",
    "            print(f\"**************************************\", end = ' ') \n",
    "            print()\n",
    "        \n",
    "        print('''\\n\\n*******************************************************************************************\\n\\n''')\n",
    "                \n",
    "            \n",
    "        if(Game_Board[0][0] == 0 and Game_Board[0][1] == 0 and Game_Board[0][2] == 0):\n",
    "            print(\"Computer Win's\")\n",
    "            sys.exit()\n",
    "        \n",
    "        elif(Game_Board[1][0] == 0 and Game_Board[1][1] == 0 and Game_Board[1][2] == 0):\n",
    "            print(\"Computer Win's\")\n",
    "            sys.exit()\n",
    "            \n",
    "        elif(Game_Board[2][0] == 0 and Game_Board[2][1] == 0 and Game_Board[2][2] == 0):\n",
    "            print(\"Computer Win's\")\n",
    "            sys.exit()\n",
    "        \n",
    "        elif(Game_Board[0][0] == 0 and Game_Board[1][0] == 0 and Game_Board[2][0] == 0):\n",
    "            print(\"Computer Win's\")\n",
    "            sys.exit()\n",
    "        \n",
    "        elif(Game_Board[0][1] == 0 and Game_Board[1][1] == 0 and Game_Board[2][1] == 0):\n",
    "            print(\"Computer Win's\")\n",
    "            sys.exit()\n",
    "        \n",
    "        elif(Game_Board[0][2] == 0 and Game_Board[1][2] == 0 and Game_Board[2][2] == 0):\n",
    "            print(\"Computer Win's\")\n",
    "            sys.exit()\n",
    "        \n",
    "        elif(Game_Board[0][0] == 0 and Game_Board[1][1] == 0 and Game_Board[2][2] == 0):\n",
    "            print(\"Computer Win's\")\n",
    "            sys.exit()\n",
    "        \n",
    "        elif(Game_Board[0][2] == 0 and Game_Board[1][1] == 0 and Game_Board[2][0] == 0):\n",
    "            print(\"Computer Win's\")\n",
    "            sys.exit()\n",
    "        \n",
    "        \n",
    "        choice = 1\n",
    "        \n",
    "    elif(choice == 1):\n",
    "            \n",
    "        print(\"\\nYour Turn \")\n",
    "    \n",
    "        User_Choice = int(input(\"\\nEnter Where you want to Mark\"))\n",
    "        \n",
    "        while(Map[User_Choice] == True):\n",
    "            print(\"\\nPlace Already Filled\")\n",
    "            User_Choice = int(input(\"\\nEnter Where you want to Mark\"))  \n",
    "            \n",
    "        if(Map[User_Choice] == False):\n",
    "            Map[User_Choice] = True\n",
    "       \n",
    "        \n",
    "        if(User_Choice > 9 or User_Choice < 1):\n",
    "            print(\"Select from 1-9\")\n",
    "            User_Choice = int(input(\"\\nEnter Number from Board where you want to mark\"))\n",
    "            \n",
    "           \n",
    "        check = False\n",
    "    \n",
    "        for i in range(0,3):\n",
    "            \n",
    "            for j in range(0,3):\n",
    "                if(Game_Board[i][j] == User_Choice):\n",
    "                    check = True\n",
    "                    Game_Board[i][j] =  1\n",
    "                    Counter += 1\n",
    "                    break\n",
    "                \n",
    "            if(check == True):\n",
    "                break\n",
    "        \n",
    "        \n",
    "        print('''\\n\\n************************************** GAME _ BOARD ***************************************\\n\\n''')\n",
    "\n",
    "\n",
    "        for i in range(0,3):\n",
    "            print(f\"**************************************\", end = '   ')\n",
    "            for j in range(0,3):\n",
    "                print(Game_Board[i][j], end = '   ')\n",
    "            print(f\"**************************************\", end = ' ') \n",
    "            print()\n",
    "\n",
    "       \n",
    "        print('''\\n\\n*******************************************************************************************\\n\\n''')\n",
    "        \n",
    "        \n",
    "        if(Game_Board[0][0] == 1 and Game_Board[0][1] == 1 and Game_Board[0][2] == 1):\n",
    "            print(\"You Win\")\n",
    "            sys.exit()\n",
    "        \n",
    "        elif(Game_Board[1][0] == 1 and Game_Board[1][1] == 1 and Game_Board[1][2] == 1):\n",
    "            print(\"You Win\")\n",
    "            sys.exit()\n",
    "            \n",
    "        elif(Game_Board[2][0] == 1 and Game_Board[2][1] == 1 and Game_Board[2][2] == 1):\n",
    "            print(\"You Win\")\n",
    "            sys.exit()\n",
    "            \n",
    "        elif(Game_Board[0][0] == 1 and Game_Board[1][0] == 1 and Game_Board[2][0] == 1):\n",
    "            print(\"You Win\")\n",
    "            sys.exit()\n",
    "        \n",
    "        elif(Game_Board[0][1] == 1 and Game_Board[1][1] == 1 and Game_Board[2][1] == 1):\n",
    "            print(\"You Win\")\n",
    "            sys.exit()\n",
    "        \n",
    "        elif(Game_Board[0][2] == 1 and Game_Board[1][2] == 1 and Game_Board[2][2] == 1):\n",
    "            print(\"You Win\")\n",
    "            sys.exit()\n",
    "        \n",
    "        elif(Game_Board[0][0] == 1 and Game_Board[1][1] == 1 and Game_Board[2][2] == 1):\n",
    "            print(\"You Win\")\n",
    "            sys.exit()\n",
    "        \n",
    "        elif(Game_Board[0][2] == 1 and Game_Board[1][1] == 1 and Game_Board[2][0] == 1):\n",
    "            print(\"You Win\")\n",
    "            sys.exit()\n",
    "        \n",
    "        \n",
    "        choice = 2\n",
    "        \n",
    "print(\"Game Draw\")"
   ]
  },
  {
   "cell_type": "code",
   "execution_count": 9,
   "id": "09a846d4-da27-40d8-a214-194e6951cbc6",
   "metadata": {},
   "outputs": [
    {
     "name": "stdin",
     "output_type": "stream",
     "text": [
      "Enter the End-Term till which you want to generate the Fibonacci Series:  13\n"
     ]
    },
    {
     "name": "stdout",
     "output_type": "stream",
     "text": [
      "0 1 1 2 3 5 8 13 "
     ]
    }
   ],
   "source": [
    "# 36. Write a program that generates Fibonacci numbers up to a specified term using iterative methods.\n",
    "\n",
    "#Code:-\n",
    "\n",
    "num = int(input(\"Enter the End-Term till which you want to generate the Fibonacci Series: \"))\n",
    "\n",
    "a = 0\n",
    "b = 1\n",
    "\n",
    "print(a,b,end = ' ')\n",
    "\n",
    "while(a+b <= num):\n",
    "    print(a + b, end = ' ')\n",
    "    temp = a\n",
    "    a = b\n",
    "    b = temp + b\n",
    "    \n"
   ]
  },
  {
   "cell_type": "code",
   "execution_count": 14,
   "id": "29c633be-8824-410f-8ead-ac35f8a161d5",
   "metadata": {},
   "outputs": [
    {
     "name": "stdin",
     "output_type": "stream",
     "text": [
      "Enter the Nth term to find nth fibonacci No:  10\n"
     ]
    },
    {
     "data": {
      "text/plain": [
       "34"
      ]
     },
     "execution_count": 14,
     "metadata": {},
     "output_type": "execute_result"
    }
   ],
   "source": [
    "# 37. Develop a program that calculates the nth term of the Fibonacci sequence using memoization.\n",
    "\n",
    "#Code:-\n",
    "\n",
    "num = int(input(\"Enter the Nth term to find nth fibonacci No: \"))\n",
    "\n",
    "a = 0\n",
    "b = 1\n",
    "count = 2\n",
    "nth_term = 0\n",
    "\n",
    "while(count < num):\n",
    "    count += 1\n",
    "    nth_term = a+b\n",
    "    temp = a\n",
    "    a = b\n",
    "    b = temp + b\n",
    "\n",
    "nth_term"
   ]
  },
  {
   "cell_type": "code",
   "execution_count": 2,
   "id": "57e03498-711a-476d-85b7-aed298cedd24",
   "metadata": {},
   "outputs": [
    {
     "name": "stdin",
     "output_type": "stream",
     "text": [
      "Enter the year (e.g., 2023):  2007\n",
      "Enter the month (1-12):  5\n"
     ]
    },
    {
     "name": "stdout",
     "output_type": "stream",
     "text": [
      "Calendar for 5/2007:\n",
      "Sun Mon Tue Wed Thu Fri Sat\n",
      "           1   2   3   4   5  \n",
      " 6   7   8   9  10  11  12  \n",
      "13  14  15  16  17  18  19  \n",
      "20  21  22  23  24  25  26  \n",
      "27  28  29  30  31  \n"
     ]
    }
   ],
   "source": [
    "# 38. Create a program that generates a calendar for a given month and year using conditional statements.\n",
    "\n",
    "#Code:-\n",
    "\n",
    "# Input month and year ....\n",
    "year = int(input(\"Enter the year (e.g., 2023): \"))\n",
    "month = int(input(\"Enter the month (1-12): \"))\n",
    "\n",
    "# Validate input\n",
    "if month < 1 or month > 12:\n",
    "    print(\"Invalid month input. Month must be between 1 and 12.\")\n",
    "else:\n",
    "    # Define the days in each month (without considering leap years)\n",
    "    days_in_month = [0, 31, 28, 31, 30, 31, 30, 31, 31, 30, 31, 30, 31]\n",
    "\n",
    "    # Check for leap year (February has 29 days)\n",
    "    if (year % 4 == 0 and year % 100 != 0) or (year % 400 == 0):\n",
    "        days_in_month[2] = 29\n",
    "\n",
    "    # Define the names of the days of the week\n",
    "    days_of_week = [\"Sunday\", \"Monday\", \"Tuesday\", \"Wednesday\", \"Thursday\", \"Friday\", \"Saturday\"]\n",
    "\n",
    "    # Calculate the day of the week for the 1st day of the month\n",
    "    # using Zeller's Congruence algorithm (https://en.wikipedia.org/wiki/Zeller%27s_congruence)\n",
    "    if month < 3:\n",
    "        month += 12\n",
    "        year -= 1\n",
    "    k = year % 100\n",
    "    j = year // 100\n",
    "    day_of_week = (1 + 13 * (month + 1)) // 5 + k + k // 4 + j // 4 - 2 * j\n",
    "    day_of_week %= 7\n",
    "\n",
    "    # Print the calendar\n",
    "    print(f\"Calendar for {month}/{year}:\")\n",
    "    print(\"Sun Mon Tue Wed Thu Fri Sat\")\n",
    "\n",
    "    for i in range(day_of_week):\n",
    "        print(\"    \", end=\" \")\n",
    "\n",
    "    for day in range(1, days_in_month[month] + 1):\n",
    "        print(f\"{day:2d} \", end=\" \")\n",
    "        day_of_week += 1\n",
    "        if day_of_week == 7:\n",
    "            day_of_week = 0\n",
    "            print()\n",
    "\n",
    "    print()"
   ]
  },
  {
   "cell_type": "code",
   "execution_count": 4,
   "id": "14c91832-89ed-4ebc-b231-0fdacf7040aa",
   "metadata": {},
   "outputs": [],
   "source": [
    "# 39. Build a program that simulates a basic text-based blackjack game against the computer.\n",
    "\n",
    "#Code:-\n",
    "\n",
    "import random\n",
    "\n",
    "# Initialize the deck\n",
    "suits = ['Hearts', 'Diamonds', 'Clubs', 'Spades']\n",
    "values = ['2', '3', '4', '5', '6', '7', '8', '9', '10', 'Jack', 'Queen', 'King', 'Ace']\n",
    "\n",
    "deck = [(suit, value) for suit in suits for value in values]\n",
    "\n",
    "# Deal two initial cards to the player and the dealer\n",
    "player_hand = [deck.pop(random.randint(0, len(deck) - 1)), deck.pop(random.randint(0, len(deck) - 1))]\n",
    "dealer_hand = [deck.pop(random.randint(0, len(deck) - 1)), deck.pop(random.randint(0, len(deck) - 1))]\n",
    "\n",
    "# Main game loop\n",
    "while True:\n",
    "    # Display player's hand and total value\n",
    "    print(\"\\nYour hand:\")\n",
    "    for card in player_hand:\n",
    "        print(f'{card[1]} of {card[0]}')\n",
    "    player_total = sum(11 if card[1] == 'Ace' else 10 if card[1] in ['Jack', 'Queen', 'King'] else int(card[1]) for card in player_hand)\n",
    "    print(f'Total value: {player_total}')\n",
    "    \n",
    "    # Check if player has blackjack or busts\n",
    "    if player_total == 21:\n",
    "        print(\"Blackjack! You win!\")\n",
    "        break\n",
    "    elif player_total > 21:\n",
    "        print(\"Bust! You lose.\")\n",
    "        break\n",
    "    \n",
    "    # Ask the player to hit or stand\n",
    "    choice = input(\"Do you want to 'hit' or 'stand'? \").lower()\n",
    "    \n",
    "    # Deal a card to the player if they choose to hit\n",
    "    if choice == 'hit':\n",
    "        player_hand.append(deck.pop(random.randint(0, len(deck) - 1)))\n",
    "    elif choice == 'stand':\n",
    "        # Dealer's turn\n",
    "        while sum(11 if card[1] == 'Ace' else 10 if card[1] in ['Jack', 'Queen', 'King'] else int(card[1]) for card in dealer_hand) < 17:\n",
    "            dealer_hand.append(deck.pop(random.randint(0, len(deck) - 1)))\n",
    "        \n",
    "        print(\"\\nDealer's hand:\")\n",
    "        for card in dealer_hand:\n",
    "            print(f'{card[1]} of {card[0]}')\n",
    "        dealer_total = sum(11 if card[1] == 'Ace' else 10 if card[1] in ['Jack', 'Queen', 'King'] else int(card[1]) for card in dealer_hand)\n",
    "        print(f'Dealer\\'s total value: {dealer_total}')\n",
    "        \n",
    "        # Determine the winner\n",
    "        if dealer_total > 21:\n",
    "            print(\"Dealer busts! You win!\")\n",
    "        elif dealer_total == player_total:\n",
    "            print(\"It's a tie!\")\n",
    "        elif dealer_total > player_total:\n",
    "            print(\"Dealer wins!\")\n",
    "        else:\n",
    "            print(\"You win!\")\n",
    "        \n",
    "        break\n",
    "    else:\n",
    "        print(\"Invalid choice. Please enter 'hit' or 'stand'.\")"
   ]
  },
  {
   "cell_type": "code",
   "execution_count": 13,
   "id": "cc672fa4-09d2-4158-b23e-8ef8ba14f587",
   "metadata": {},
   "outputs": [
    {
     "name": "stdin",
     "output_type": "stream",
     "text": [
      "Enter a number to find its prime factors:  48\n"
     ]
    },
    {
     "name": "stdout",
     "output_type": "stream",
     "text": [
      "\n",
      "Prime factors: [2, 2, 2, 2, 3]\n"
     ]
    }
   ],
   "source": [
    "# 40. Write a program that generates the prime factors of a given number using trial division.\n",
    "\n",
    "#Code:-\n",
    "\n",
    "prime_factors = []\n",
    "\n",
    "# List of accurate prime numbers\n",
    "prime_numbers = [2, 3, 5, 7, 11, 13, 17, 19, 23, 27]\n",
    "\n",
    "num = int(input(\"Enter a number to find its prime factors: \"))\n",
    "\n",
    "index = 0\n",
    "while num != 1:\n",
    "    p = prime_numbers[index]\n",
    "\n",
    "    if num % p == 0:\n",
    "        num = num // p  # Use integer division to get an integer result\n",
    "        prime_factors.append(p)\n",
    "        \n",
    "        \n",
    "    else:\n",
    "        index += 1\n",
    "\n",
    "print(\"\\nPrime factors:\", prime_factors)"
   ]
  }
 ],
 "metadata": {
  "kernelspec": {
   "display_name": "Python 3 (ipykernel)",
   "language": "python",
   "name": "python3"
  },
  "language_info": {
   "codemirror_mode": {
    "name": "ipython",
    "version": 3
   },
   "file_extension": ".py",
   "mimetype": "text/x-python",
   "name": "python",
   "nbconvert_exporter": "python",
   "pygments_lexer": "ipython3",
   "version": "3.10.8"
  }
 },
 "nbformat": 4,
 "nbformat_minor": 5
}
